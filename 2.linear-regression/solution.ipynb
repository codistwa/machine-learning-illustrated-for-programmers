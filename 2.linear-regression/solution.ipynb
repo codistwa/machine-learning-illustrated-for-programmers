{
 "cells": [
  {
   "cell_type": "markdown",
   "id": "checked-essay",
   "metadata": {},
   "source": [
    "# Solution to n°1"
   ]
  },
  {
   "cell_type": "code",
   "execution_count": 4,
   "id": "unable-nancy",
   "metadata": {},
   "outputs": [],
   "source": [
    "import numpy as np"
   ]
  },
  {
   "cell_type": "code",
   "execution_count": 5,
   "id": "seventh-singapore",
   "metadata": {},
   "outputs": [],
   "source": [
    "# data\n",
    "y_actual = [8, 4, 2, 12, 5]\n",
    "y_predicted = [7, 3, 3, 9, 4]"
   ]
  },
  {
   "cell_type": "code",
   "execution_count": 6,
   "id": "juvenile-bahrain",
   "metadata": {},
   "outputs": [],
   "source": [
    "def rmse(actual, predicted):\n",
    "    differences = np.subtract(actual, predicted)\n",
    "    MSE = np.square(differences).mean() \n",
    "    return np.sqrt(MSE)"
   ]
  },
  {
   "cell_type": "code",
   "execution_count": 7,
   "id": "appreciated-chester",
   "metadata": {},
   "outputs": [
    {
     "name": "stdout",
     "output_type": "stream",
     "text": [
      "RMSE 1.61245154965971\n"
     ]
    }
   ],
   "source": [
    "print(\"RMSE\", rmse(y_actual, y_predicted))"
   ]
  }
 ],
 "metadata": {
  "kernelspec": {
   "display_name": "Python 3",
   "language": "python",
   "name": "python3"
  },
  "language_info": {
   "codemirror_mode": {
    "name": "ipython",
    "version": 3
   },
   "file_extension": ".py",
   "mimetype": "text/x-python",
   "name": "python",
   "nbconvert_exporter": "python",
   "pygments_lexer": "ipython3",
   "version": "3.8.10"
  }
 },
 "nbformat": 4,
 "nbformat_minor": 5
}
