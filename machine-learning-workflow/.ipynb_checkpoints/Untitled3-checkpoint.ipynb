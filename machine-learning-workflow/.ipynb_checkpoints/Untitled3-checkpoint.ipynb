{
 "cells": [
  {
   "cell_type": "markdown",
   "id": "finite-bibliography",
   "metadata": {},
   "source": [
    "## 5. Training models\n",
    "\n",
    "- Linear regression\n",
    "\n",
    "- Random forest\n",
    "\n",
    "- SVM\n",
    "\n",
    "- Gradient Boosting"
   ]
  },
  {
   "cell_type": "markdown",
   "id": "warming-provision",
   "metadata": {},
   "source": [
    " ### Baseline solution\n"
   ]
  },
  {
   "cell_type": "code",
   "execution_count": null,
   "id": "enabling-senior",
   "metadata": {},
   "outputs": [],
   "source": [
    "# separate the features from the labels\n",
    "X = df.drop([\"price\"], axis=1)\n",
    "y = df[\"price\"]"
   ]
  },
  {
   "cell_type": "code",
   "execution_count": null,
   "id": "sustained-ordinary",
   "metadata": {},
   "outputs": [],
   "source": [
    "from sklearn.model_selection import train_test_split\n",
    "\n",
    "X_train, X_test, y_train, y_test = train_test_split(\n",
    "    X, y, test_size=0.4, random_state=1) # 60/40\n",
    "\n",
    "X_train, X_val, y_train, y_val = train_test_split(\n",
    "    X_train, y_train, test_size=0.5, random_state=1) # 20/20"
   ]
  },
  {
   "cell_type": "markdown",
   "id": "unavailable-bargain",
   "metadata": {},
   "source": [
    "**Import algorithms for regression**"
   ]
  },
  {
   "cell_type": "code",
   "execution_count": null,
   "id": "dying-latest",
   "metadata": {},
   "outputs": [],
   "source": [
    "from sklearn.linear_model import LinearRegression\n",
    "from sklearn.svm import SVR\n",
    "from sklearn.ensemble import RandomForestRegressor\n",
    "from sklearn.ensemble import GradientBoostingRegressor"
   ]
  }
 ],
 "metadata": {
  "kernelspec": {
   "display_name": "Python 3",
   "language": "python",
   "name": "python3"
  },
  "language_info": {
   "codemirror_mode": {
    "name": "ipython",
    "version": 3
   },
   "file_extension": ".py",
   "mimetype": "text/x-python",
   "name": "python",
   "nbconvert_exporter": "python",
   "pygments_lexer": "ipython3",
   "version": "3.8.10"
  }
 },
 "nbformat": 4,
 "nbformat_minor": 5
}
