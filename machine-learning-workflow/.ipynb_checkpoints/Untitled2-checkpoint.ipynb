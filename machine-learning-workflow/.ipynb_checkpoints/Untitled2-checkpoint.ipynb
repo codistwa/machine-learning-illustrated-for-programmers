{
 "cells": [
  {
   "cell_type": "markdown",
   "id": "suspended-feelings",
   "metadata": {},
   "source": [
    "## 5. Training models\n",
    "\n",
    "- Logistic regression (perceptron)\n",
    "- Naive Bayes\n",
    "- Support vector machine (SVM)"
   ]
  },
  {
   "cell_type": "code",
   "execution_count": null,
   "id": "right-jackson",
   "metadata": {},
   "outputs": [],
   "source": [
    "# Remove the target variable\n",
    "X = df_train.drop([\"is_canceled\"], axis=1)"
   ]
  },
  {
   "cell_type": "code",
   "execution_count": null,
   "id": "regular-thing",
   "metadata": {},
   "outputs": [],
   "source": [
    "# Get the target variable\n",
    "y = df_train[\"is_canceled\"]"
   ]
  },
  {
   "cell_type": "code",
   "execution_count": null,
   "id": "ecological-geometry",
   "metadata": {},
   "outputs": [],
   "source": [
    "# split the dataset\n",
    "from sklearn.model_selection import train_test_split\n",
    "\n",
    "X_train, X_test, y_train, y_test = train_test_split(\n",
    "    X, y, test_size=0.4, random_state=1) # 60/40\n",
    "\n",
    "X_train, X_val, y_train, y_val = train_test_split(\n",
    "    X_train, y_train, test_size=0.5, random_state=1) # 20/20"
   ]
  },
  {
   "cell_type": "code",
   "execution_count": null,
   "id": "tamil-dispute",
   "metadata": {},
   "outputs": [],
   "source": [
    "**Import algorithms for classification**"
   ]
  },
  {
   "cell_type": "code",
   "execution_count": null,
   "id": "fitting-letters",
   "metadata": {},
   "outputs": [],
   "source": [
    "from sklearn.linear_model import LogisticRegression\n",
    "\n",
    "lr_model = LogisticRegression(solver='lbfgs', max_iter=10000)\n",
    "lr_model.fit(X_train, y_train)"
   ]
  },
  {
   "cell_type": "code",
   "execution_count": null,
   "id": "reliable-woman",
   "metadata": {},
   "outputs": [],
   "source": [
    "from sklearn.naive_bayes import GaussianNB\n",
    "\n",
    "nb_model = GaussianNB()\n",
    "nb_model.fit(X_train, y_train)"
   ]
  },
  {
   "cell_type": "code",
   "execution_count": null,
   "id": "surrounded-kitchen",
   "metadata": {},
   "outputs": [],
   "source": [
    "from sklearn.svm import SVC\n",
    "\n",
    "svm_model = SVC()\n",
    "svm_model.fit(X_train, y_train)"
   ]
  },
  {
   "cell_type": "markdown",
   "id": "controversial-installation",
   "metadata": {},
   "source": [
    "## 6. Evaluating models\n",
    "\n",
    "**metrics:**\n",
    "\n",
    "- Confusion matrix - `confusion_matrix()`\n",
    "- Classification report - `classification_report()`\n",
    "- Precision - `precision_score()`\n",
    "- F1-score - `f1_score()`"
   ]
  },
  {
   "cell_type": "code",
   "execution_count": null,
   "id": "terminal-chamber",
   "metadata": {},
   "outputs": [],
   "source": [
    "# Accuracy\n",
    "print(\"Scores of the models\")\n",
    "print(\"Logistic regression:\", lr_model.score(X_val, y_val))\n",
    "print(\"Naive Bayes:\", nb_model.score(X_val, y_val))\n",
    "print(\"SVM:\", svm_model.score(X_val, y_val))"
   ]
  },
  {
   "cell_type": "code",
   "execution_count": null,
   "id": "detected-bacteria",
   "metadata": {},
   "outputs": [],
   "source": [
    "# make predictions on training data \n",
    "lr_y_pred = lr_model.predict(X_val)\n",
    "nb_y_pred = nb_model.predict(X_val)\n",
    "svm_y_pred = svm_model.predict(X_val)"
   ]
  },
  {
   "cell_type": "code",
   "execution_count": null,
   "id": "played-consistency",
   "metadata": {},
   "outputs": [],
   "source": [
    "from sklearn.metrics import f1_score\n",
    "\n",
    "print(\"F1-scores of the models:\")\n",
    "print(\"Logistic regression:\", f1_score(y_val, lr_y_pred))\n",
    "print(\"Naive Bayes:\", f1_score(y_val, nb_y_pred))\n",
    "print(\"Support Vector Machine:\", f1_score(y_val, svm_y_pred))"
   ]
  },
  {
   "cell_type": "code",
   "execution_count": null,
   "id": "welcome-stanford",
   "metadata": {},
   "outputs": [],
   "source": [
    "from sklearn.metrics import precision_score\n",
    "\n",
    "print(\"precision of the models:\")\n",
    "print(\"Logistic regression:\", precision_score(y_val, lr_y_pred))\n",
    "print(\"Naive Bayes:\", precision_score(y_val, nb_y_pred))\n",
    "print(\"Support Vector Machine:\", precision_score(y_val, svm_y_pred))"
   ]
  },
  {
   "cell_type": "code",
   "execution_count": null,
   "id": "selective-advocacy",
   "metadata": {},
   "outputs": [],
   "source": [
    "## 7. Testing the model"
   ]
  },
  {
   "cell_type": "code",
   "execution_count": null,
   "id": "silent-costs",
   "metadata": {},
   "outputs": [],
   "source": [
    "# Plotting confusion matrix for the different models for the Training Data\n",
    "\n",
    "from sklearn import metrics\n",
    "\n",
    "f,a =  plt.subplots(1,2,sharex=True,sharey=True,squeeze=False)\n",
    "\n",
    "predict_train = nb_model.fit(X_train, y_train).predict(X_train)\n",
    "predict_test = nb_model.fit(X_test, y_test).predict(X_test)\n",
    "\n",
    "\n",
    "plot_0 = sns.heatmap((metrics.confusion_matrix(y_train, predict_train)),annot=True,fmt='.5g',cmap=\"YlGn\",ax=a[0][0]);\n",
    "a[0][0].set_title('Training Data')\n",
    "\n",
    "plot_1 = sns.heatmap((metrics.confusion_matrix(y_test, predict_test)),annot=True,fmt='.5g',cmap=\"YlGn\",ax=a[0][1]);\n",
    "a[0][1].set_title('Test Data');"
   ]
  },
  {
   "cell_type": "code",
   "execution_count": null,
   "id": "wanted-poison",
   "metadata": {},
   "outputs": [],
   "source": [
    "# classification report\n",
    "\n",
    "from sklearn.metrics import classification_report\n",
    "\n",
    "print(classification_report(y_test, predict_test))"
   ]
  },
  {
   "cell_type": "code",
   "execution_count": null,
   "id": "dominant-cycle",
   "metadata": {},
   "outputs": [],
   "source": [
    "**Use the model**"
   ]
  },
  {
   "cell_type": "code",
   "execution_count": null,
   "id": "nervous-python",
   "metadata": {},
   "outputs": [],
   "source": [
    "hotel = X_test.iloc[10]\n",
    "hotel_dict = hotel.to_dict()\n",
    "hotel_dict"
   ]
  },
  {
   "cell_type": "code",
   "execution_count": null,
   "id": "agricultural-integral",
   "metadata": {},
   "outputs": [],
   "source": [
    "nb_model.predict_proba([hotel])[0, 1]"
   ]
  },
  {
   "cell_type": "code",
   "execution_count": null,
   "id": "funky-career",
   "metadata": {},
   "outputs": [],
   "source": [
    "y_test.iloc[10]"
   ]
  }
 ],
 "metadata": {
  "kernelspec": {
   "display_name": "Python 3",
   "language": "python",
   "name": "python3"
  },
  "language_info": {
   "codemirror_mode": {
    "name": "ipython",
    "version": 3
   },
   "file_extension": ".py",
   "mimetype": "text/x-python",
   "name": "python",
   "nbconvert_exporter": "python",
   "pygments_lexer": "ipython3",
   "version": "3.8.10"
  }
 },
 "nbformat": 4,
 "nbformat_minor": 5
}
