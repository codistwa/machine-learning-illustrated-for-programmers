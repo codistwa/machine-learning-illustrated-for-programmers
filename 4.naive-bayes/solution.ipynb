{
 "cells": [
  {
   "cell_type": "markdown",
   "id": "checked-essay",
   "metadata": {},
   "source": [
    "# Solution"
   ]
  },
  {
   "cell_type": "markdown",
   "id": "established-static",
   "metadata": {},
   "source": [
    "## Prior probability of B"
   ]
  },
  {
   "cell_type": "code",
   "execution_count": 3,
   "id": "surface-instrument",
   "metadata": {},
   "outputs": [
    {
     "name": "stdout",
     "output_type": "stream",
     "text": [
      "The probability of getting a positive test result is 0.02097000000000002\n"
     ]
    }
   ],
   "source": [
    "# P(B) = (P(A) * P(B|A) + (P(~A) * (1 - P(~(B|A))\n",
    "\n",
    "# P(A)\n",
    "p_sickness = 0.001\n",
    "\n",
    "# P(~A)\n",
    "p_no_sickness = 0.999\n",
    "\n",
    "# P(B|A) Sensivity\n",
    "p_positive_sickness = 0.99\n",
    "\n",
    "# P(~(B|A) Posivity\n",
    "p_negative_no_sickness = 0.98\n",
    "\n",
    "# P(B)\n",
    "p_positive = (p_sickness * p_positive_sickness) + (p_no_sickness * (1 - p_negative_no_sickness))\n",
    "\n",
    "print(\"The probability of getting a positive test result is\", p_positive)"
   ]
  },
  {
   "cell_type": "markdown",
   "id": "electoral-language",
   "metadata": {},
   "source": [
    "## Bonus"
   ]
  },
  {
   "cell_type": "markdown",
   "id": "insured-joining",
   "metadata": {},
   "source": [
    "## Probability of B occuring, given A"
   ]
  },
  {
   "cell_type": "code",
   "execution_count": 6,
   "id": "loved-pierce",
   "metadata": {},
   "outputs": [
    {
     "name": "stdout",
     "output_type": "stream",
     "text": [
      "The probability of an individual having the disease, given that the individual got a positive test result is 0.047210300429184504\n"
     ]
    }
   ],
   "source": [
    "# Naive Bayes Theorem\n",
    "# P(A|B) = (P(A)) * P(Pos|A) / P(B)\n",
    "\n",
    "p_sickness_positive = (p_sickness * p_positive_sickness) / p_positive\n",
    "\n",
    "print(\"The probability of an individual having the disease, given that the individual got a positive test result is\", p_sickness_positive)"
   ]
  },
  {
   "cell_type": "code",
   "execution_count": null,
   "id": "pharmaceutical-parking",
   "metadata": {},
   "outputs": [],
   "source": []
  }
 ],
 "metadata": {
  "kernelspec": {
   "display_name": "Python 3",
   "language": "python",
   "name": "python3"
  },
  "language_info": {
   "codemirror_mode": {
    "name": "ipython",
    "version": 3
   },
   "file_extension": ".py",
   "mimetype": "text/x-python",
   "name": "python",
   "nbconvert_exporter": "python",
   "pygments_lexer": "ipython3",
   "version": "3.8.10"
  }
 },
 "nbformat": 4,
 "nbformat_minor": 5
}
