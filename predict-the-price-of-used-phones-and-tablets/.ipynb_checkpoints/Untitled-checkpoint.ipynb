{
 "cells": [
  {
   "cell_type": "markdown",
   "id": "geological-sleeve",
   "metadata": {},
   "source": [
    "# Predict the price of used phones and tablets"
   ]
  },
  {
   "cell_type": "markdown",
   "id": "floral-course",
   "metadata": {},
   "source": [
    "## Problem statement\n",
    "What will be the price of this used device."
   ]
  },
  {
   "cell_type": "markdown",
   "id": "ultimate-forge",
   "metadata": {},
   "source": [
    "## 1. Importing Libraries"
   ]
  },
  {
   "cell_type": "code",
   "execution_count": 2,
   "id": "dynamic-guyana",
   "metadata": {},
   "outputs": [],
   "source": [
    "import numpy as np\n",
    "import pandas as pd \n",
    "\n",
    "# plotting libraries\n",
    "import matplotlib.pyplot as plt\n",
    "import seaborn as sns\n",
    "%matplotlib inline"
   ]
  },
  {
   "cell_type": "markdown",
   "id": "municipal-beads",
   "metadata": {},
   "source": [
    "## 2. Loading the dataset"
   ]
  },
  {
   "cell_type": "code",
   "execution_count": 3,
   "id": "formed-whole",
   "metadata": {},
   "outputs": [],
   "source": [
    "df = pd.read_csv('used_device_data.csv')"
   ]
  },
  {
   "cell_type": "markdown",
   "id": "according-commission",
   "metadata": {},
   "source": [
    "## 3. Exploratory data analysis"
   ]
  },
  {
   "cell_type": "code",
   "execution_count": 4,
   "id": "forbidden-workstation",
   "metadata": {},
   "outputs": [
    {
     "data": {
      "text/html": [
       "<div>\n",
       "<style scoped>\n",
       "    .dataframe tbody tr th:only-of-type {\n",
       "        vertical-align: middle;\n",
       "    }\n",
       "\n",
       "    .dataframe tbody tr th {\n",
       "        vertical-align: top;\n",
       "    }\n",
       "\n",
       "    .dataframe thead th {\n",
       "        text-align: right;\n",
       "    }\n",
       "</style>\n",
       "<table border=\"1\" class=\"dataframe\">\n",
       "  <thead>\n",
       "    <tr style=\"text-align: right;\">\n",
       "      <th></th>\n",
       "      <th>device_brand</th>\n",
       "      <th>os</th>\n",
       "      <th>screen_size</th>\n",
       "      <th>4g</th>\n",
       "      <th>5g</th>\n",
       "      <th>rear_camera_mp</th>\n",
       "      <th>front_camera_mp</th>\n",
       "      <th>internal_memory</th>\n",
       "      <th>ram</th>\n",
       "      <th>battery</th>\n",
       "      <th>weight</th>\n",
       "      <th>release_year</th>\n",
       "      <th>days_used</th>\n",
       "      <th>normalized_used_price</th>\n",
       "      <th>normalized_new_price</th>\n",
       "    </tr>\n",
       "  </thead>\n",
       "  <tbody>\n",
       "    <tr>\n",
       "      <th>0</th>\n",
       "      <td>Honor</td>\n",
       "      <td>Android</td>\n",
       "      <td>14.50</td>\n",
       "      <td>yes</td>\n",
       "      <td>no</td>\n",
       "      <td>13.0</td>\n",
       "      <td>5.0</td>\n",
       "      <td>64.0</td>\n",
       "      <td>3.0</td>\n",
       "      <td>3020.0</td>\n",
       "      <td>146.0</td>\n",
       "      <td>2020</td>\n",
       "      <td>127</td>\n",
       "      <td>4.307572</td>\n",
       "      <td>4.715100</td>\n",
       "    </tr>\n",
       "    <tr>\n",
       "      <th>1</th>\n",
       "      <td>Honor</td>\n",
       "      <td>Android</td>\n",
       "      <td>17.30</td>\n",
       "      <td>yes</td>\n",
       "      <td>yes</td>\n",
       "      <td>13.0</td>\n",
       "      <td>16.0</td>\n",
       "      <td>128.0</td>\n",
       "      <td>8.0</td>\n",
       "      <td>4300.0</td>\n",
       "      <td>213.0</td>\n",
       "      <td>2020</td>\n",
       "      <td>325</td>\n",
       "      <td>5.162097</td>\n",
       "      <td>5.519018</td>\n",
       "    </tr>\n",
       "    <tr>\n",
       "      <th>2</th>\n",
       "      <td>Honor</td>\n",
       "      <td>Android</td>\n",
       "      <td>16.69</td>\n",
       "      <td>yes</td>\n",
       "      <td>yes</td>\n",
       "      <td>13.0</td>\n",
       "      <td>8.0</td>\n",
       "      <td>128.0</td>\n",
       "      <td>8.0</td>\n",
       "      <td>4200.0</td>\n",
       "      <td>213.0</td>\n",
       "      <td>2020</td>\n",
       "      <td>162</td>\n",
       "      <td>5.111084</td>\n",
       "      <td>5.884631</td>\n",
       "    </tr>\n",
       "    <tr>\n",
       "      <th>3</th>\n",
       "      <td>Honor</td>\n",
       "      <td>Android</td>\n",
       "      <td>25.50</td>\n",
       "      <td>yes</td>\n",
       "      <td>yes</td>\n",
       "      <td>13.0</td>\n",
       "      <td>8.0</td>\n",
       "      <td>64.0</td>\n",
       "      <td>6.0</td>\n",
       "      <td>7250.0</td>\n",
       "      <td>480.0</td>\n",
       "      <td>2020</td>\n",
       "      <td>345</td>\n",
       "      <td>5.135387</td>\n",
       "      <td>5.630961</td>\n",
       "    </tr>\n",
       "    <tr>\n",
       "      <th>4</th>\n",
       "      <td>Honor</td>\n",
       "      <td>Android</td>\n",
       "      <td>15.32</td>\n",
       "      <td>yes</td>\n",
       "      <td>no</td>\n",
       "      <td>13.0</td>\n",
       "      <td>8.0</td>\n",
       "      <td>64.0</td>\n",
       "      <td>3.0</td>\n",
       "      <td>5000.0</td>\n",
       "      <td>185.0</td>\n",
       "      <td>2020</td>\n",
       "      <td>293</td>\n",
       "      <td>4.389995</td>\n",
       "      <td>4.947837</td>\n",
       "    </tr>\n",
       "  </tbody>\n",
       "</table>\n",
       "</div>"
      ],
      "text/plain": [
       "  device_brand       os  screen_size   4g   5g  rear_camera_mp  \\\n",
       "0        Honor  Android        14.50  yes   no            13.0   \n",
       "1        Honor  Android        17.30  yes  yes            13.0   \n",
       "2        Honor  Android        16.69  yes  yes            13.0   \n",
       "3        Honor  Android        25.50  yes  yes            13.0   \n",
       "4        Honor  Android        15.32  yes   no            13.0   \n",
       "\n",
       "   front_camera_mp  internal_memory  ram  battery  weight  release_year  \\\n",
       "0              5.0             64.0  3.0   3020.0   146.0          2020   \n",
       "1             16.0            128.0  8.0   4300.0   213.0          2020   \n",
       "2              8.0            128.0  8.0   4200.0   213.0          2020   \n",
       "3              8.0             64.0  6.0   7250.0   480.0          2020   \n",
       "4              8.0             64.0  3.0   5000.0   185.0          2020   \n",
       "\n",
       "   days_used  normalized_used_price  normalized_new_price  \n",
       "0        127               4.307572              4.715100  \n",
       "1        325               5.162097              5.519018  \n",
       "2        162               5.111084              5.884631  \n",
       "3        345               5.135387              5.630961  \n",
       "4        293               4.389995              4.947837  "
      ]
     },
     "execution_count": 4,
     "metadata": {},
     "output_type": "execute_result"
    }
   ],
   "source": [
    "df.head()"
   ]
  },
  {
   "cell_type": "code",
   "execution_count": 5,
   "id": "enormous-legislature",
   "metadata": {},
   "outputs": [
    {
     "data": {
      "text/plain": [
       "(3454, 15)"
      ]
     },
     "execution_count": 5,
     "metadata": {},
     "output_type": "execute_result"
    }
   ],
   "source": [
    "df.shape"
   ]
  },
  {
   "cell_type": "code",
   "execution_count": 6,
   "id": "administrative-parameter",
   "metadata": {},
   "outputs": [
    {
     "name": "stdout",
     "output_type": "stream",
     "text": [
      "<class 'pandas.core.frame.DataFrame'>\n",
      "RangeIndex: 3454 entries, 0 to 3453\n",
      "Data columns (total 15 columns):\n",
      " #   Column                 Non-Null Count  Dtype  \n",
      "---  ------                 --------------  -----  \n",
      " 0   device_brand           3454 non-null   object \n",
      " 1   os                     3454 non-null   object \n",
      " 2   screen_size            3454 non-null   float64\n",
      " 3   4g                     3454 non-null   object \n",
      " 4   5g                     3454 non-null   object \n",
      " 5   rear_camera_mp         3275 non-null   float64\n",
      " 6   front_camera_mp        3452 non-null   float64\n",
      " 7   internal_memory        3450 non-null   float64\n",
      " 8   ram                    3450 non-null   float64\n",
      " 9   battery                3448 non-null   float64\n",
      " 10  weight                 3447 non-null   float64\n",
      " 11  release_year           3454 non-null   int64  \n",
      " 12  days_used              3454 non-null   int64  \n",
      " 13  normalized_used_price  3454 non-null   float64\n",
      " 14  normalized_new_price   3454 non-null   float64\n",
      "dtypes: float64(9), int64(2), object(4)\n",
      "memory usage: 404.9+ KB\n"
     ]
    }
   ],
   "source": [
    "df.info()"
   ]
  },
  {
   "cell_type": "markdown",
   "id": "widespread-object",
   "metadata": {},
   "source": [
    "**Interpreting Data Information**\n",
    "\n",
    "- We have 3454 rows, any column that contains lesser number of rows has missing values.\n",
    "- We have 15 columns.\n",
    "- There are numerical features that have data type `float64` and `int64`.\n",
    "- There are categorical features that have data type `object`."
   ]
  },
  {
   "cell_type": "code",
   "execution_count": 7,
   "id": "polyphonic-exclusive",
   "metadata": {},
   "outputs": [
    {
     "data": {
      "text/html": [
       "<div>\n",
       "<style scoped>\n",
       "    .dataframe tbody tr th:only-of-type {\n",
       "        vertical-align: middle;\n",
       "    }\n",
       "\n",
       "    .dataframe tbody tr th {\n",
       "        vertical-align: top;\n",
       "    }\n",
       "\n",
       "    .dataframe thead th {\n",
       "        text-align: right;\n",
       "    }\n",
       "</style>\n",
       "<table border=\"1\" class=\"dataframe\">\n",
       "  <thead>\n",
       "    <tr style=\"text-align: right;\">\n",
       "      <th></th>\n",
       "      <th>screen_size</th>\n",
       "      <th>rear_camera_mp</th>\n",
       "      <th>front_camera_mp</th>\n",
       "      <th>internal_memory</th>\n",
       "      <th>ram</th>\n",
       "      <th>battery</th>\n",
       "      <th>weight</th>\n",
       "      <th>release_year</th>\n",
       "      <th>days_used</th>\n",
       "      <th>normalized_used_price</th>\n",
       "      <th>normalized_new_price</th>\n",
       "    </tr>\n",
       "  </thead>\n",
       "  <tbody>\n",
       "    <tr>\n",
       "      <th>count</th>\n",
       "      <td>3454.000000</td>\n",
       "      <td>3275.000000</td>\n",
       "      <td>3452.000000</td>\n",
       "      <td>3450.000000</td>\n",
       "      <td>3450.000000</td>\n",
       "      <td>3448.000000</td>\n",
       "      <td>3447.000000</td>\n",
       "      <td>3454.000000</td>\n",
       "      <td>3454.000000</td>\n",
       "      <td>3454.000000</td>\n",
       "      <td>3454.000000</td>\n",
       "    </tr>\n",
       "    <tr>\n",
       "      <th>mean</th>\n",
       "      <td>13.713115</td>\n",
       "      <td>9.460208</td>\n",
       "      <td>6.554229</td>\n",
       "      <td>54.573099</td>\n",
       "      <td>4.036122</td>\n",
       "      <td>3133.402697</td>\n",
       "      <td>182.751871</td>\n",
       "      <td>2015.965258</td>\n",
       "      <td>674.869716</td>\n",
       "      <td>4.364712</td>\n",
       "      <td>5.233107</td>\n",
       "    </tr>\n",
       "    <tr>\n",
       "      <th>std</th>\n",
       "      <td>3.805280</td>\n",
       "      <td>4.815461</td>\n",
       "      <td>6.970372</td>\n",
       "      <td>84.972371</td>\n",
       "      <td>1.365105</td>\n",
       "      <td>1299.682844</td>\n",
       "      <td>88.413228</td>\n",
       "      <td>2.298455</td>\n",
       "      <td>248.580166</td>\n",
       "      <td>0.588914</td>\n",
       "      <td>0.683637</td>\n",
       "    </tr>\n",
       "    <tr>\n",
       "      <th>min</th>\n",
       "      <td>5.080000</td>\n",
       "      <td>0.080000</td>\n",
       "      <td>0.000000</td>\n",
       "      <td>0.010000</td>\n",
       "      <td>0.020000</td>\n",
       "      <td>500.000000</td>\n",
       "      <td>69.000000</td>\n",
       "      <td>2013.000000</td>\n",
       "      <td>91.000000</td>\n",
       "      <td>1.536867</td>\n",
       "      <td>2.901422</td>\n",
       "    </tr>\n",
       "    <tr>\n",
       "      <th>25%</th>\n",
       "      <td>12.700000</td>\n",
       "      <td>5.000000</td>\n",
       "      <td>2.000000</td>\n",
       "      <td>16.000000</td>\n",
       "      <td>4.000000</td>\n",
       "      <td>2100.000000</td>\n",
       "      <td>142.000000</td>\n",
       "      <td>2014.000000</td>\n",
       "      <td>533.500000</td>\n",
       "      <td>4.033931</td>\n",
       "      <td>4.790342</td>\n",
       "    </tr>\n",
       "    <tr>\n",
       "      <th>50%</th>\n",
       "      <td>12.830000</td>\n",
       "      <td>8.000000</td>\n",
       "      <td>5.000000</td>\n",
       "      <td>32.000000</td>\n",
       "      <td>4.000000</td>\n",
       "      <td>3000.000000</td>\n",
       "      <td>160.000000</td>\n",
       "      <td>2015.500000</td>\n",
       "      <td>690.500000</td>\n",
       "      <td>4.405133</td>\n",
       "      <td>5.245892</td>\n",
       "    </tr>\n",
       "    <tr>\n",
       "      <th>75%</th>\n",
       "      <td>15.340000</td>\n",
       "      <td>13.000000</td>\n",
       "      <td>8.000000</td>\n",
       "      <td>64.000000</td>\n",
       "      <td>4.000000</td>\n",
       "      <td>4000.000000</td>\n",
       "      <td>185.000000</td>\n",
       "      <td>2018.000000</td>\n",
       "      <td>868.750000</td>\n",
       "      <td>4.755700</td>\n",
       "      <td>5.673718</td>\n",
       "    </tr>\n",
       "    <tr>\n",
       "      <th>max</th>\n",
       "      <td>30.710000</td>\n",
       "      <td>48.000000</td>\n",
       "      <td>32.000000</td>\n",
       "      <td>1024.000000</td>\n",
       "      <td>12.000000</td>\n",
       "      <td>9720.000000</td>\n",
       "      <td>855.000000</td>\n",
       "      <td>2020.000000</td>\n",
       "      <td>1094.000000</td>\n",
       "      <td>6.619433</td>\n",
       "      <td>7.847841</td>\n",
       "    </tr>\n",
       "  </tbody>\n",
       "</table>\n",
       "</div>"
      ],
      "text/plain": [
       "       screen_size  rear_camera_mp  front_camera_mp  internal_memory  \\\n",
       "count  3454.000000     3275.000000      3452.000000      3450.000000   \n",
       "mean     13.713115        9.460208         6.554229        54.573099   \n",
       "std       3.805280        4.815461         6.970372        84.972371   \n",
       "min       5.080000        0.080000         0.000000         0.010000   \n",
       "25%      12.700000        5.000000         2.000000        16.000000   \n",
       "50%      12.830000        8.000000         5.000000        32.000000   \n",
       "75%      15.340000       13.000000         8.000000        64.000000   \n",
       "max      30.710000       48.000000        32.000000      1024.000000   \n",
       "\n",
       "               ram      battery       weight  release_year    days_used  \\\n",
       "count  3450.000000  3448.000000  3447.000000   3454.000000  3454.000000   \n",
       "mean      4.036122  3133.402697   182.751871   2015.965258   674.869716   \n",
       "std       1.365105  1299.682844    88.413228      2.298455   248.580166   \n",
       "min       0.020000   500.000000    69.000000   2013.000000    91.000000   \n",
       "25%       4.000000  2100.000000   142.000000   2014.000000   533.500000   \n",
       "50%       4.000000  3000.000000   160.000000   2015.500000   690.500000   \n",
       "75%       4.000000  4000.000000   185.000000   2018.000000   868.750000   \n",
       "max      12.000000  9720.000000   855.000000   2020.000000  1094.000000   \n",
       "\n",
       "       normalized_used_price  normalized_new_price  \n",
       "count            3454.000000           3454.000000  \n",
       "mean                4.364712              5.233107  \n",
       "std                 0.588914              0.683637  \n",
       "min                 1.536867              2.901422  \n",
       "25%                 4.033931              4.790342  \n",
       "50%                 4.405133              5.245892  \n",
       "75%                 4.755700              5.673718  \n",
       "max                 6.619433              7.847841  "
      ]
     },
     "execution_count": 7,
     "metadata": {},
     "output_type": "execute_result"
    }
   ],
   "source": [
    "df.describe()"
   ]
  },
  {
   "cell_type": "code",
   "execution_count": 8,
   "id": "organized-failing",
   "metadata": {},
   "outputs": [
    {
     "name": "stdout",
     "output_type": "stream",
     "text": [
      "device_brand 34\n",
      "os 4\n",
      "screen_size 142\n",
      "4g 2\n",
      "5g 2\n",
      "rear_camera_mp 41\n",
      "front_camera_mp 37\n",
      "internal_memory 15\n",
      "ram 12\n",
      "battery 324\n",
      "weight 555\n",
      "release_year 8\n",
      "days_used 924\n",
      "normalized_used_price 3094\n",
      "normalized_new_price 2988\n"
     ]
    }
   ],
   "source": [
    "# We compute the number of unique elements one columns\n",
    "for column in df.columns:\n",
    "    print(column, df[column].nunique())"
   ]
  },
  {
   "cell_type": "markdown",
   "id": "piano-citizen",
   "metadata": {},
   "source": [
    "### Univariate Analysis"
   ]
  },
  {
   "cell_type": "code",
   "execution_count": 9,
   "id": "strange-gabriel",
   "metadata": {},
   "outputs": [
    {
     "data": {
      "text/plain": [
       "0    4.307572\n",
       "1    5.162097\n",
       "2    5.111084\n",
       "3    5.135387\n",
       "4    4.389995\n",
       "Name: normalized_used_price, dtype: float64"
      ]
     },
     "execution_count": 9,
     "metadata": {},
     "output_type": "execute_result"
    }
   ],
   "source": [
    "df['normalized_used_price'].head()"
   ]
  },
  {
   "cell_type": "code",
   "execution_count": 10,
   "id": "facial-communist",
   "metadata": {},
   "outputs": [
    {
     "data": {
      "text/plain": [
       "3094"
      ]
     },
     "execution_count": 10,
     "metadata": {},
     "output_type": "execute_result"
    }
   ],
   "source": [
    "df['normalized_used_price'].nunique()"
   ]
  },
  {
   "cell_type": "code",
   "execution_count": 11,
   "id": "mysterious-niagara",
   "metadata": {},
   "outputs": [
    {
     "data": {
      "text/plain": [
       "count    3454.000000\n",
       "mean        4.364712\n",
       "std         0.588914\n",
       "min         1.536867\n",
       "25%         4.033931\n",
       "50%         4.405133\n",
       "75%         4.755700\n",
       "max         6.619433\n",
       "Name: normalized_used_price, dtype: float64"
      ]
     },
     "execution_count": 11,
     "metadata": {},
     "output_type": "execute_result"
    }
   ],
   "source": [
    "df['normalized_used_price'].describe()"
   ]
  },
  {
   "cell_type": "code",
   "execution_count": 12,
   "id": "sound-northwest",
   "metadata": {},
   "outputs": [
    {
     "data": {
      "text/plain": [
       "<AxesSubplot:xlabel='normalized_used_price', ylabel='Count'>"
      ]
     },
     "execution_count": 12,
     "metadata": {},
     "output_type": "execute_result"
    },
    {
     "data": {
      "image/png": "[encoded data removed]",
      "text/plain": [
       "<Figure size 432x288 with 1 Axes>"
      ]
     },
     "metadata": {
      "needs_background": "light"
     },
     "output_type": "display_data"
    }
   ],
   "source": [
    "# histogram\n",
    "sns.histplot(df['normalized_used_price'])"
   ]
  },
  {
   "cell_type": "markdown",
   "id": "accessible-enlargement",
   "metadata": {},
   "source": [
    "### Bivariate Analysis"
   ]
  },
  {
   "cell_type": "code",
   "execution_count": 13,
   "id": "floating-entrance",
   "metadata": {},
   "outputs": [
    {
     "data": {
      "text/html": [
       "<div>\n",
       "<style scoped>\n",
       "    .dataframe tbody tr th:only-of-type {\n",
       "        vertical-align: middle;\n",
       "    }\n",
       "\n",
       "    .dataframe tbody tr th {\n",
       "        vertical-align: top;\n",
       "    }\n",
       "\n",
       "    .dataframe thead th {\n",
       "        text-align: right;\n",
       "    }\n",
       "</style>\n",
       "<table border=\"1\" class=\"dataframe\">\n",
       "  <thead>\n",
       "    <tr style=\"text-align: right;\">\n",
       "      <th></th>\n",
       "      <th>normalized_new_price</th>\n",
       "      <th>normalized_used_price</th>\n",
       "    </tr>\n",
       "  </thead>\n",
       "  <tbody>\n",
       "    <tr>\n",
       "      <th>0</th>\n",
       "      <td>4.715100</td>\n",
       "      <td>4.307572</td>\n",
       "    </tr>\n",
       "    <tr>\n",
       "      <th>1</th>\n",
       "      <td>5.519018</td>\n",
       "      <td>5.162097</td>\n",
       "    </tr>\n",
       "    <tr>\n",
       "      <th>2</th>\n",
       "      <td>5.884631</td>\n",
       "      <td>5.111084</td>\n",
       "    </tr>\n",
       "    <tr>\n",
       "      <th>3</th>\n",
       "      <td>5.630961</td>\n",
       "      <td>5.135387</td>\n",
       "    </tr>\n",
       "    <tr>\n",
       "      <th>4</th>\n",
       "      <td>4.947837</td>\n",
       "      <td>4.389995</td>\n",
       "    </tr>\n",
       "    <tr>\n",
       "      <th>...</th>\n",
       "      <td>...</td>\n",
       "      <td>...</td>\n",
       "    </tr>\n",
       "    <tr>\n",
       "      <th>3449</th>\n",
       "      <td>6.483872</td>\n",
       "      <td>4.492337</td>\n",
       "    </tr>\n",
       "    <tr>\n",
       "      <th>3450</th>\n",
       "      <td>6.251538</td>\n",
       "      <td>5.037732</td>\n",
       "    </tr>\n",
       "    <tr>\n",
       "      <th>3451</th>\n",
       "      <td>4.528829</td>\n",
       "      <td>4.357350</td>\n",
       "    </tr>\n",
       "    <tr>\n",
       "      <th>3452</th>\n",
       "      <td>4.624188</td>\n",
       "      <td>4.349762</td>\n",
       "    </tr>\n",
       "    <tr>\n",
       "      <th>3453</th>\n",
       "      <td>4.279994</td>\n",
       "      <td>4.132122</td>\n",
       "    </tr>\n",
       "  </tbody>\n",
       "</table>\n",
       "<p>3454 rows × 2 columns</p>\n",
       "</div>"
      ],
      "text/plain": [
       "      normalized_new_price  normalized_used_price\n",
       "0                 4.715100               4.307572\n",
       "1                 5.519018               5.162097\n",
       "2                 5.884631               5.111084\n",
       "3                 5.630961               5.135387\n",
       "4                 4.947837               4.389995\n",
       "...                    ...                    ...\n",
       "3449              6.483872               4.492337\n",
       "3450              6.251538               5.037732\n",
       "3451              4.528829               4.357350\n",
       "3452              4.624188               4.349762\n",
       "3453              4.279994               4.132122\n",
       "\n",
       "[3454 rows x 2 columns]"
      ]
     },
     "execution_count": 13,
     "metadata": {},
     "output_type": "execute_result"
    }
   ],
   "source": [
    "df[['normalized_new_price', 'normalized_used_price']]"
   ]
  },
  {
   "cell_type": "code",
   "execution_count": 14,
   "id": "experimental-teens",
   "metadata": {},
   "outputs": [
    {
     "data": {
      "text/plain": [
       "[]"
      ]
     },
     "execution_count": 14,
     "metadata": {},
     "output_type": "execute_result"
    },
    {
     "data": {
      "image/png": "[encoded data removed]",
      "text/plain": [
       "<Figure size 432x288 with 1 Axes>"
      ]
     },
     "metadata": {
      "needs_background": "light"
     },
     "output_type": "display_data"
    }
   ],
   "source": [
    "# boxplot\n",
    "sns.boxplot(data=df,x=\"release_year\",y=\"normalized_used_price\")\n",
    "plt.rcParams['figure.figsize']=(20,20)\n",
    "plt.plot()"
   ]
  },
  {
   "cell_type": "code",
   "execution_count": 15,
   "id": "removable-chassis",
   "metadata": {},
   "outputs": [
    {
     "data": {
      "image/png": "[encoded data removed]",
      "text/plain": [
       "<Figure size 1584x1440 with 12 Axes>"
      ]
     },
     "metadata": {
      "needs_background": "light"
     },
     "output_type": "display_data"
    }
   ],
   "source": [
    "# distribution \n",
    "df.hist(figsize=(22, 20), bins=30, edgecolor=\"black\")\n",
    "plt.subplots_adjust(hspace=0.7, wspace=0.4)"
   ]
  },
  {
   "cell_type": "code",
   "execution_count": 16,
   "id": "dedicated-donor",
   "metadata": {},
   "outputs": [
    {
     "data": {
      "text/html": [
       "<div>\n",
       "<style scoped>\n",
       "    .dataframe tbody tr th:only-of-type {\n",
       "        vertical-align: middle;\n",
       "    }\n",
       "\n",
       "    .dataframe tbody tr th {\n",
       "        vertical-align: top;\n",
       "    }\n",
       "\n",
       "    .dataframe thead th {\n",
       "        text-align: right;\n",
       "    }\n",
       "</style>\n",
       "<table border=\"1\" class=\"dataframe\">\n",
       "  <thead>\n",
       "    <tr style=\"text-align: right;\">\n",
       "      <th></th>\n",
       "      <th>screen_size</th>\n",
       "      <th>rear_camera_mp</th>\n",
       "      <th>front_camera_mp</th>\n",
       "      <th>internal_memory</th>\n",
       "      <th>ram</th>\n",
       "      <th>battery</th>\n",
       "      <th>weight</th>\n",
       "      <th>release_year</th>\n",
       "      <th>days_used</th>\n",
       "      <th>normalized_used_price</th>\n",
       "      <th>normalized_new_price</th>\n",
       "    </tr>\n",
       "  </thead>\n",
       "  <tbody>\n",
       "    <tr>\n",
       "      <th>screen_size</th>\n",
       "      <td>1.000000</td>\n",
       "      <td>0.150316</td>\n",
       "      <td>0.271640</td>\n",
       "      <td>0.071291</td>\n",
       "      <td>0.274449</td>\n",
       "      <td>0.813533</td>\n",
       "      <td>0.828890</td>\n",
       "      <td>0.364223</td>\n",
       "      <td>-0.291723</td>\n",
       "      <td>0.614785</td>\n",
       "      <td>0.460889</td>\n",
       "    </tr>\n",
       "    <tr>\n",
       "      <th>rear_camera_mp</th>\n",
       "      <td>0.150316</td>\n",
       "      <td>1.000000</td>\n",
       "      <td>0.429264</td>\n",
       "      <td>0.018766</td>\n",
       "      <td>0.260802</td>\n",
       "      <td>0.248563</td>\n",
       "      <td>-0.087738</td>\n",
       "      <td>0.353728</td>\n",
       "      <td>-0.144672</td>\n",
       "      <td>0.587302</td>\n",
       "      <td>0.541655</td>\n",
       "    </tr>\n",
       "    <tr>\n",
       "      <th>front_camera_mp</th>\n",
       "      <td>0.271640</td>\n",
       "      <td>0.429264</td>\n",
       "      <td>1.000000</td>\n",
       "      <td>0.296426</td>\n",
       "      <td>0.477411</td>\n",
       "      <td>0.369709</td>\n",
       "      <td>-0.004997</td>\n",
       "      <td>0.690942</td>\n",
       "      <td>-0.552636</td>\n",
       "      <td>0.608074</td>\n",
       "      <td>0.475479</td>\n",
       "    </tr>\n",
       "    <tr>\n",
       "      <th>internal_memory</th>\n",
       "      <td>0.071291</td>\n",
       "      <td>0.018766</td>\n",
       "      <td>0.296426</td>\n",
       "      <td>1.000000</td>\n",
       "      <td>0.122496</td>\n",
       "      <td>0.117736</td>\n",
       "      <td>0.014948</td>\n",
       "      <td>0.235429</td>\n",
       "      <td>-0.242712</td>\n",
       "      <td>0.190993</td>\n",
       "      <td>0.195992</td>\n",
       "    </tr>\n",
       "    <tr>\n",
       "      <th>ram</th>\n",
       "      <td>0.274449</td>\n",
       "      <td>0.260802</td>\n",
       "      <td>0.477411</td>\n",
       "      <td>0.122496</td>\n",
       "      <td>1.000000</td>\n",
       "      <td>0.280740</td>\n",
       "      <td>0.089916</td>\n",
       "      <td>0.314203</td>\n",
       "      <td>-0.280066</td>\n",
       "      <td>0.520289</td>\n",
       "      <td>0.532056</td>\n",
       "    </tr>\n",
       "    <tr>\n",
       "      <th>battery</th>\n",
       "      <td>0.813533</td>\n",
       "      <td>0.248563</td>\n",
       "      <td>0.369709</td>\n",
       "      <td>0.117736</td>\n",
       "      <td>0.280740</td>\n",
       "      <td>1.000000</td>\n",
       "      <td>0.703388</td>\n",
       "      <td>0.488660</td>\n",
       "      <td>-0.370895</td>\n",
       "      <td>0.613619</td>\n",
       "      <td>0.470754</td>\n",
       "    </tr>\n",
       "    <tr>\n",
       "      <th>weight</th>\n",
       "      <td>0.828890</td>\n",
       "      <td>-0.087738</td>\n",
       "      <td>-0.004997</td>\n",
       "      <td>0.014948</td>\n",
       "      <td>0.089916</td>\n",
       "      <td>0.703388</td>\n",
       "      <td>1.000000</td>\n",
       "      <td>0.071290</td>\n",
       "      <td>-0.067470</td>\n",
       "      <td>0.382354</td>\n",
       "      <td>0.269540</td>\n",
       "    </tr>\n",
       "    <tr>\n",
       "      <th>release_year</th>\n",
       "      <td>0.364223</td>\n",
       "      <td>0.353728</td>\n",
       "      <td>0.690942</td>\n",
       "      <td>0.235429</td>\n",
       "      <td>0.314203</td>\n",
       "      <td>0.488660</td>\n",
       "      <td>0.071290</td>\n",
       "      <td>1.000000</td>\n",
       "      <td>-0.750390</td>\n",
       "      <td>0.509790</td>\n",
       "      <td>0.303689</td>\n",
       "    </tr>\n",
       "    <tr>\n",
       "      <th>days_used</th>\n",
       "      <td>-0.291723</td>\n",
       "      <td>-0.144672</td>\n",
       "      <td>-0.552636</td>\n",
       "      <td>-0.242712</td>\n",
       "      <td>-0.280066</td>\n",
       "      <td>-0.370895</td>\n",
       "      <td>-0.067470</td>\n",
       "      <td>-0.750390</td>\n",
       "      <td>1.000000</td>\n",
       "      <td>-0.358264</td>\n",
       "      <td>-0.216625</td>\n",
       "    </tr>\n",
       "    <tr>\n",
       "      <th>normalized_used_price</th>\n",
       "      <td>0.614785</td>\n",
       "      <td>0.587302</td>\n",
       "      <td>0.608074</td>\n",
       "      <td>0.190993</td>\n",
       "      <td>0.520289</td>\n",
       "      <td>0.613619</td>\n",
       "      <td>0.382354</td>\n",
       "      <td>0.509790</td>\n",
       "      <td>-0.358264</td>\n",
       "      <td>1.000000</td>\n",
       "      <td>0.834496</td>\n",
       "    </tr>\n",
       "    <tr>\n",
       "      <th>normalized_new_price</th>\n",
       "      <td>0.460889</td>\n",
       "      <td>0.541655</td>\n",
       "      <td>0.475479</td>\n",
       "      <td>0.195992</td>\n",
       "      <td>0.532056</td>\n",
       "      <td>0.470754</td>\n",
       "      <td>0.269540</td>\n",
       "      <td>0.303689</td>\n",
       "      <td>-0.216625</td>\n",
       "      <td>0.834496</td>\n",
       "      <td>1.000000</td>\n",
       "    </tr>\n",
       "  </tbody>\n",
       "</table>\n",
       "</div>"
      ],
      "text/plain": [
       "                       screen_size  rear_camera_mp  front_camera_mp  \\\n",
       "screen_size               1.000000        0.150316         0.271640   \n",
       "rear_camera_mp            0.150316        1.000000         0.429264   \n",
       "front_camera_mp           0.271640        0.429264         1.000000   \n",
       "internal_memory           0.071291        0.018766         0.296426   \n",
       "ram                       0.274449        0.260802         0.477411   \n",
       "battery                   0.813533        0.248563         0.369709   \n",
       "weight                    0.828890       -0.087738        -0.004997   \n",
       "release_year              0.364223        0.353728         0.690942   \n",
       "days_used                -0.291723       -0.144672        -0.552636   \n",
       "normalized_used_price     0.614785        0.587302         0.608074   \n",
       "normalized_new_price      0.460889        0.541655         0.475479   \n",
       "\n",
       "                       internal_memory       ram   battery    weight  \\\n",
       "screen_size                   0.071291  0.274449  0.813533  0.828890   \n",
       "rear_camera_mp                0.018766  0.260802  0.248563 -0.087738   \n",
       "front_camera_mp               0.296426  0.477411  0.369709 -0.004997   \n",
       "internal_memory               1.000000  0.122496  0.117736  0.014948   \n",
       "ram                           0.122496  1.000000  0.280740  0.089916   \n",
       "battery                       0.117736  0.280740  1.000000  0.703388   \n",
       "weight                        0.014948  0.089916  0.703388  1.000000   \n",
       "release_year                  0.235429  0.314203  0.488660  0.071290   \n",
       "days_used                    -0.242712 -0.280066 -0.370895 -0.067470   \n",
       "normalized_used_price         0.190993  0.520289  0.613619  0.382354   \n",
       "normalized_new_price          0.195992  0.532056  0.470754  0.269540   \n",
       "\n",
       "                       release_year  days_used  normalized_used_price  \\\n",
       "screen_size                0.364223  -0.291723               0.614785   \n",
       "rear_camera_mp             0.353728  -0.144672               0.587302   \n",
       "front_camera_mp            0.690942  -0.552636               0.608074   \n",
       "internal_memory            0.235429  -0.242712               0.190993   \n",
       "ram                        0.314203  -0.280066               0.520289   \n",
       "battery                    0.488660  -0.370895               0.613619   \n",
       "weight                     0.071290  -0.067470               0.382354   \n",
       "release_year               1.000000  -0.750390               0.509790   \n",
       "days_used                 -0.750390   1.000000              -0.358264   \n",
       "normalized_used_price      0.509790  -0.358264               1.000000   \n",
       "normalized_new_price       0.303689  -0.216625               0.834496   \n",
       "\n",
       "                       normalized_new_price  \n",
       "screen_size                        0.460889  \n",
       "rear_camera_mp                     0.541655  \n",
       "front_camera_mp                    0.475479  \n",
       "internal_memory                    0.195992  \n",
       "ram                                0.532056  \n",
       "battery                            0.470754  \n",
       "weight                             0.269540  \n",
       "release_year                       0.303689  \n",
       "days_used                         -0.216625  \n",
       "normalized_used_price              0.834496  \n",
       "normalized_new_price               1.000000  "
      ]
     },
     "execution_count": 16,
     "metadata": {},
     "output_type": "execute_result"
    }
   ],
   "source": [
    "# correlations\n",
    "corr_matrix = df.corr()\n",
    "corr_matrix"
   ]
  },
  {
   "cell_type": "code",
   "execution_count": 17,
   "id": "atomic-condition",
   "metadata": {},
   "outputs": [
    {
     "data": {
      "image/png": "[encoded data removed]",
      "text/plain": [
       "<Figure size 864x648 with 2 Axes>"
      ]
     },
     "metadata": {
      "needs_background": "light"
     },
     "output_type": "display_data"
    }
   ],
   "source": [
    "# check correlation matrix, darker means more correlation\n",
    "fig, ax0 = plt.subplots(figsize=(12, 9))\n",
    "sns.heatmap(corr_matrix, vmax=.8, square=True, ax=ax0, cmap=\"YlGnBu\")\n",
    "# margins bug\n",
    "b, t = plt.ylim()\n",
    "plt.ylim(b + 0.5, t-0.5)\n",
    "ax0.set_title(\"Heatmap of all Variables\")\n",
    "plt.show()"
   ]
  },
  {
   "cell_type": "code",
   "execution_count": 18,
   "id": "assisted-albuquerque",
   "metadata": {},
   "outputs": [
    {
     "data": {
      "text/plain": [
       "days_used               -0.358264\n",
       "internal_memory          0.190993\n",
       "weight                   0.382354\n",
       "release_year             0.509790\n",
       "ram                      0.520289\n",
       "rear_camera_mp           0.587302\n",
       "front_camera_mp          0.608074\n",
       "battery                  0.613619\n",
       "screen_size              0.614785\n",
       "normalized_new_price     0.834496\n",
       "normalized_used_price    1.000000\n",
       "Name: normalized_used_price, dtype: float64"
      ]
     },
     "execution_count": 18,
     "metadata": {},
     "output_type": "execute_result"
    }
   ],
   "source": [
    "# order the correlations with SalePrice\n",
    "correlations = corr_matrix[\"normalized_used_price\"].sort_values()\n",
    "correlations"
   ]
  },
  {
   "cell_type": "code",
   "execution_count": 19,
   "id": "excessive-college",
   "metadata": {},
   "outputs": [
    {
     "data": {
      "image/png": "[encoded data removed]",
      "text/plain": [
       "<Figure size 720x720 with 20 Axes>"
      ]
     },
     "metadata": {
      "needs_background": "light"
     },
     "output_type": "display_data"
    }
   ],
   "source": [
    "# linear relationships\n",
    "cols = ['normalized_used_price', 'normalized_new_price', 'screen_size', 'release_year']\n",
    "\n",
    "g = sns.pairplot(df[cols], kind = \"reg\")\n",
    "\n",
    "plt.savefig(\"scatterplot_matrix.png\") "
   ]
  },
  {
   "cell_type": "code",
   "execution_count": 21,
   "id": "fluid-facing",
   "metadata": {},
   "outputs": [
    {
     "data": {
      "image/png": "[encoded data removed]",
      "text/plain": [
       "<Figure size 1224x288 with 3 Axes>"
      ]
     },
     "metadata": {
      "needs_background": "light"
     },
     "output_type": "display_data"
    }
   ],
   "source": [
    "corr_screen_size = correlations['screen_size']\n",
    "corr_normalized_new_price = correlations['normalized_new_price']\n",
    "corr_battery = correlations['battery']\n",
    "\n",
    "fig, (ax1, ax2, ax3) = plt.subplots(nrows = 1, ncols= 3, sharey = True, figsize=(17, 4))\n",
    "\n",
    "s1 = sns.regplot(x = \"screen_size\", y = \"normalized_used_price\", data=df, ax=ax1)\n",
    "s1.set_title(\"Corr: {:.4f}\".format(corr_screen_size))\n",
    "s1.set(xlabel=\"screen_size\", ylabel=\"used price\")\n",
    "\n",
    "s2 = sns.regplot(x = \"normalized_new_price\", y = \"normalized_used_price\", data=df, ax=ax2)\n",
    "s2.set_title(\"Corr: {:.4f}\".format(corr_normalized_new_price))\n",
    "s2.set(xlabel=\"normalized_new_price\", ylabel=\"\")\n",
    "\n",
    "s3 = sns.regplot(x = \"battery\", y = \"normalized_used_price\", data=df, ax=ax3)\n",
    "s3.set_title(\"Corr: {:.4f}\".format(corr_battery))\n",
    "s3.set(xlabel=\"battery\", ylabel=\"\")\n",
    "\n",
    "plt.show()"
   ]
  },
  {
   "cell_type": "markdown",
   "id": "infectious-receipt",
   "metadata": {},
   "source": [
    "### Check missing values and outliers"
   ]
  },
  {
   "cell_type": "code",
   "execution_count": 22,
   "id": "logical-tribune",
   "metadata": {},
   "outputs": [
    {
     "data": {
      "text/html": [
       "<div>\n",
       "<style scoped>\n",
       "    .dataframe tbody tr th:only-of-type {\n",
       "        vertical-align: middle;\n",
       "    }\n",
       "\n",
       "    .dataframe tbody tr th {\n",
       "        vertical-align: top;\n",
       "    }\n",
       "\n",
       "    .dataframe thead th {\n",
       "        text-align: right;\n",
       "    }\n",
       "</style>\n",
       "<table border=\"1\" class=\"dataframe\">\n",
       "  <thead>\n",
       "    <tr style=\"text-align: right;\">\n",
       "      <th></th>\n",
       "      <th>0</th>\n",
       "      <th>1</th>\n",
       "      <th>2</th>\n",
       "      <th>3</th>\n",
       "      <th>4</th>\n",
       "    </tr>\n",
       "  </thead>\n",
       "  <tbody>\n",
       "    <tr>\n",
       "      <th>device_brand</th>\n",
       "      <td>Honor</td>\n",
       "      <td>Honor</td>\n",
       "      <td>Honor</td>\n",
       "      <td>Honor</td>\n",
       "      <td>Honor</td>\n",
       "    </tr>\n",
       "    <tr>\n",
       "      <th>os</th>\n",
       "      <td>Android</td>\n",
       "      <td>Android</td>\n",
       "      <td>Android</td>\n",
       "      <td>Android</td>\n",
       "      <td>Android</td>\n",
       "    </tr>\n",
       "    <tr>\n",
       "      <th>4g</th>\n",
       "      <td>yes</td>\n",
       "      <td>yes</td>\n",
       "      <td>yes</td>\n",
       "      <td>yes</td>\n",
       "      <td>yes</td>\n",
       "    </tr>\n",
       "    <tr>\n",
       "      <th>5g</th>\n",
       "      <td>no</td>\n",
       "      <td>yes</td>\n",
       "      <td>yes</td>\n",
       "      <td>yes</td>\n",
       "      <td>no</td>\n",
       "    </tr>\n",
       "  </tbody>\n",
       "</table>\n",
       "</div>"
      ],
      "text/plain": [
       "                    0        1        2        3        4\n",
       "device_brand    Honor    Honor    Honor    Honor    Honor\n",
       "os            Android  Android  Android  Android  Android\n",
       "4g                yes      yes      yes      yes      yes\n",
       "5g                 no      yes      yes      yes       no"
      ]
     },
     "execution_count": 22,
     "metadata": {},
     "output_type": "execute_result"
    }
   ],
   "source": [
    "# First, segregating the categorical from the dataframe.\n",
    "cat_vars = ['object']\n",
    "cat_df = df.select_dtypes(include=cat_vars)\n",
    "cat_df.head().T"
   ]
  },
  {
   "cell_type": "code",
   "execution_count": 23,
   "id": "terminal-particle",
   "metadata": {},
   "outputs": [
    {
     "name": "stdout",
     "output_type": "stream",
     "text": [
      "device_brand    0\n",
      "os              0\n",
      "4g              0\n",
      "5g              0\n",
      "dtype: int64 =============\n",
      "device_brand has 34 labels\n",
      "os has 4 labels\n",
      "4g has 2 labels\n",
      "5g has 2 labels\n"
     ]
    }
   ],
   "source": [
    "# printing missing value and labels in each column\n",
    "print(cat_df.isnull().sum(), \"=============\")\n",
    "for var in list(cat_df.columns):\n",
    "    print(var, 'has', len(cat_df[var].unique()), 'labels')"
   ]
  },
  {
   "cell_type": "markdown",
   "id": "architectural-hungarian",
   "metadata": {},
   "source": [
    "#### Numerical Variables Analysis"
   ]
  },
  {
   "cell_type": "code",
   "execution_count": 24,
   "id": "italic-liquid",
   "metadata": {},
   "outputs": [
    {
     "data": {
      "text/html": [
       "<div>\n",
       "<style scoped>\n",
       "    .dataframe tbody tr th:only-of-type {\n",
       "        vertical-align: middle;\n",
       "    }\n",
       "\n",
       "    .dataframe tbody tr th {\n",
       "        vertical-align: top;\n",
       "    }\n",
       "\n",
       "    .dataframe thead th {\n",
       "        text-align: right;\n",
       "    }\n",
       "</style>\n",
       "<table border=\"1\" class=\"dataframe\">\n",
       "  <thead>\n",
       "    <tr style=\"text-align: right;\">\n",
       "      <th></th>\n",
       "      <th>0</th>\n",
       "      <th>1</th>\n",
       "      <th>2</th>\n",
       "      <th>3</th>\n",
       "      <th>4</th>\n",
       "    </tr>\n",
       "  </thead>\n",
       "  <tbody>\n",
       "    <tr>\n",
       "      <th>screen_size</th>\n",
       "      <td>14.500000</td>\n",
       "      <td>17.300000</td>\n",
       "      <td>16.690000</td>\n",
       "      <td>25.500000</td>\n",
       "      <td>15.320000</td>\n",
       "    </tr>\n",
       "    <tr>\n",
       "      <th>rear_camera_mp</th>\n",
       "      <td>13.000000</td>\n",
       "      <td>13.000000</td>\n",
       "      <td>13.000000</td>\n",
       "      <td>13.000000</td>\n",
       "      <td>13.000000</td>\n",
       "    </tr>\n",
       "    <tr>\n",
       "      <th>front_camera_mp</th>\n",
       "      <td>5.000000</td>\n",
       "      <td>16.000000</td>\n",
       "      <td>8.000000</td>\n",
       "      <td>8.000000</td>\n",
       "      <td>8.000000</td>\n",
       "    </tr>\n",
       "    <tr>\n",
       "      <th>internal_memory</th>\n",
       "      <td>64.000000</td>\n",
       "      <td>128.000000</td>\n",
       "      <td>128.000000</td>\n",
       "      <td>64.000000</td>\n",
       "      <td>64.000000</td>\n",
       "    </tr>\n",
       "    <tr>\n",
       "      <th>ram</th>\n",
       "      <td>3.000000</td>\n",
       "      <td>8.000000</td>\n",
       "      <td>8.000000</td>\n",
       "      <td>6.000000</td>\n",
       "      <td>3.000000</td>\n",
       "    </tr>\n",
       "    <tr>\n",
       "      <th>battery</th>\n",
       "      <td>3020.000000</td>\n",
       "      <td>4300.000000</td>\n",
       "      <td>4200.000000</td>\n",
       "      <td>7250.000000</td>\n",
       "      <td>5000.000000</td>\n",
       "    </tr>\n",
       "    <tr>\n",
       "      <th>weight</th>\n",
       "      <td>146.000000</td>\n",
       "      <td>213.000000</td>\n",
       "      <td>213.000000</td>\n",
       "      <td>480.000000</td>\n",
       "      <td>185.000000</td>\n",
       "    </tr>\n",
       "    <tr>\n",
       "      <th>release_year</th>\n",
       "      <td>2020.000000</td>\n",
       "      <td>2020.000000</td>\n",
       "      <td>2020.000000</td>\n",
       "      <td>2020.000000</td>\n",
       "      <td>2020.000000</td>\n",
       "    </tr>\n",
       "    <tr>\n",
       "      <th>days_used</th>\n",
       "      <td>127.000000</td>\n",
       "      <td>325.000000</td>\n",
       "      <td>162.000000</td>\n",
       "      <td>345.000000</td>\n",
       "      <td>293.000000</td>\n",
       "    </tr>\n",
       "    <tr>\n",
       "      <th>normalized_used_price</th>\n",
       "      <td>4.307572</td>\n",
       "      <td>5.162097</td>\n",
       "      <td>5.111084</td>\n",
       "      <td>5.135387</td>\n",
       "      <td>4.389995</td>\n",
       "    </tr>\n",
       "    <tr>\n",
       "      <th>normalized_new_price</th>\n",
       "      <td>4.715100</td>\n",
       "      <td>5.519018</td>\n",
       "      <td>5.884631</td>\n",
       "      <td>5.630961</td>\n",
       "      <td>4.947837</td>\n",
       "    </tr>\n",
       "  </tbody>\n",
       "</table>\n",
       "</div>"
      ],
      "text/plain": [
       "                                 0            1            2            3  \\\n",
       "screen_size              14.500000    17.300000    16.690000    25.500000   \n",
       "rear_camera_mp           13.000000    13.000000    13.000000    13.000000   \n",
       "front_camera_mp           5.000000    16.000000     8.000000     8.000000   \n",
       "internal_memory          64.000000   128.000000   128.000000    64.000000   \n",
       "ram                       3.000000     8.000000     8.000000     6.000000   \n",
       "battery                3020.000000  4300.000000  4200.000000  7250.000000   \n",
       "weight                  146.000000   213.000000   213.000000   480.000000   \n",
       "release_year           2020.000000  2020.000000  2020.000000  2020.000000   \n",
       "days_used               127.000000   325.000000   162.000000   345.000000   \n",
       "normalized_used_price     4.307572     5.162097     5.111084     5.135387   \n",
       "normalized_new_price      4.715100     5.519018     5.884631     5.630961   \n",
       "\n",
       "                                 4  \n",
       "screen_size              15.320000  \n",
       "rear_camera_mp           13.000000  \n",
       "front_camera_mp           8.000000  \n",
       "internal_memory          64.000000  \n",
       "ram                       3.000000  \n",
       "battery                5000.000000  \n",
       "weight                  185.000000  \n",
       "release_year           2020.000000  \n",
       "days_used               293.000000  \n",
       "normalized_used_price     4.389995  \n",
       "normalized_new_price      4.947837  "
      ]
     },
     "execution_count": 24,
     "metadata": {},
     "output_type": "execute_result"
    }
   ],
   "source": [
    "# isolating numerical columns in a dataframe\n",
    "numerics = ['int64', 'float64']\n",
    "num_df = df.select_dtypes(include=numerics)\n",
    "num_df.head().T"
   ]
  },
  {
   "cell_type": "code",
   "execution_count": 25,
   "id": "portable-defendant",
   "metadata": {},
   "outputs": [
    {
     "data": {
      "text/plain": [
       "screen_size                0\n",
       "rear_camera_mp           179\n",
       "front_camera_mp            2\n",
       "internal_memory            4\n",
       "ram                        4\n",
       "battery                    6\n",
       "weight                     7\n",
       "release_year               0\n",
       "days_used                  0\n",
       "normalized_used_price      0\n",
       "normalized_new_price       0\n",
       "dtype: int64"
      ]
     },
     "execution_count": 25,
     "metadata": {},
     "output_type": "execute_result"
    }
   ],
   "source": [
    "num_df.isnull().sum()"
   ]
  },
  {
   "cell_type": "code",
   "execution_count": 26,
   "id": "quick-lightweight",
   "metadata": {},
   "outputs": [
    {
     "data": {
      "text/plain": [
       "device_brand             0.000000\n",
       "os                       0.000000\n",
       "screen_size              0.000000\n",
       "4g                       0.000000\n",
       "5g                       0.000000\n",
       "rear_camera_mp           0.051824\n",
       "front_camera_mp          0.000579\n",
       "internal_memory          0.001158\n",
       "ram                      0.001158\n",
       "battery                  0.001737\n",
       "weight                   0.002027\n",
       "release_year             0.000000\n",
       "days_used                0.000000\n",
       "normalized_used_price    0.000000\n",
       "normalized_new_price     0.000000\n",
       "dtype: float64"
      ]
     },
     "execution_count": 26,
     "metadata": {},
     "output_type": "execute_result"
    }
   ],
   "source": [
    "# Percent of missing data in each column\n",
    "df.isnull().mean() "
   ]
  },
  {
   "cell_type": "code",
   "execution_count": 27,
   "id": "olive-enterprise",
   "metadata": {},
   "outputs": [
    {
     "data": {
      "text/html": [
       "<div>\n",
       "<style scoped>\n",
       "    .dataframe tbody tr th:only-of-type {\n",
       "        vertical-align: middle;\n",
       "    }\n",
       "\n",
       "    .dataframe tbody tr th {\n",
       "        vertical-align: top;\n",
       "    }\n",
       "\n",
       "    .dataframe thead th {\n",
       "        text-align: right;\n",
       "    }\n",
       "</style>\n",
       "<table border=\"1\" class=\"dataframe\">\n",
       "  <thead>\n",
       "    <tr style=\"text-align: right;\">\n",
       "      <th></th>\n",
       "      <th>Total</th>\n",
       "      <th>Percent</th>\n",
       "    </tr>\n",
       "  </thead>\n",
       "  <tbody>\n",
       "    <tr>\n",
       "      <th>rear_camera_mp</th>\n",
       "      <td>179</td>\n",
       "      <td>0.051824</td>\n",
       "    </tr>\n",
       "    <tr>\n",
       "      <th>weight</th>\n",
       "      <td>7</td>\n",
       "      <td>0.002027</td>\n",
       "    </tr>\n",
       "    <tr>\n",
       "      <th>battery</th>\n",
       "      <td>6</td>\n",
       "      <td>0.001737</td>\n",
       "    </tr>\n",
       "    <tr>\n",
       "      <th>internal_memory</th>\n",
       "      <td>4</td>\n",
       "      <td>0.001158</td>\n",
       "    </tr>\n",
       "    <tr>\n",
       "      <th>ram</th>\n",
       "      <td>4</td>\n",
       "      <td>0.001158</td>\n",
       "    </tr>\n",
       "    <tr>\n",
       "      <th>front_camera_mp</th>\n",
       "      <td>2</td>\n",
       "      <td>0.000579</td>\n",
       "    </tr>\n",
       "    <tr>\n",
       "      <th>device_brand</th>\n",
       "      <td>0</td>\n",
       "      <td>0.000000</td>\n",
       "    </tr>\n",
       "    <tr>\n",
       "      <th>os</th>\n",
       "      <td>0</td>\n",
       "      <td>0.000000</td>\n",
       "    </tr>\n",
       "    <tr>\n",
       "      <th>screen_size</th>\n",
       "      <td>0</td>\n",
       "      <td>0.000000</td>\n",
       "    </tr>\n",
       "    <tr>\n",
       "      <th>4g</th>\n",
       "      <td>0</td>\n",
       "      <td>0.000000</td>\n",
       "    </tr>\n",
       "    <tr>\n",
       "      <th>5g</th>\n",
       "      <td>0</td>\n",
       "      <td>0.000000</td>\n",
       "    </tr>\n",
       "    <tr>\n",
       "      <th>release_year</th>\n",
       "      <td>0</td>\n",
       "      <td>0.000000</td>\n",
       "    </tr>\n",
       "    <tr>\n",
       "      <th>days_used</th>\n",
       "      <td>0</td>\n",
       "      <td>0.000000</td>\n",
       "    </tr>\n",
       "    <tr>\n",
       "      <th>normalized_used_price</th>\n",
       "      <td>0</td>\n",
       "      <td>0.000000</td>\n",
       "    </tr>\n",
       "    <tr>\n",
       "      <th>normalized_new_price</th>\n",
       "      <td>0</td>\n",
       "      <td>0.000000</td>\n",
       "    </tr>\n",
       "  </tbody>\n",
       "</table>\n",
       "</div>"
      ],
      "text/plain": [
       "                       Total   Percent\n",
       "rear_camera_mp           179  0.051824\n",
       "weight                     7  0.002027\n",
       "battery                    6  0.001737\n",
       "internal_memory            4  0.001158\n",
       "ram                        4  0.001158\n",
       "front_camera_mp            2  0.000579\n",
       "device_brand               0  0.000000\n",
       "os                         0  0.000000\n",
       "screen_size                0  0.000000\n",
       "4g                         0  0.000000\n",
       "5g                         0  0.000000\n",
       "release_year               0  0.000000\n",
       "days_used                  0  0.000000\n",
       "normalized_used_price      0  0.000000\n",
       "normalized_new_price       0  0.000000"
      ]
     },
     "execution_count": 27,
     "metadata": {},
     "output_type": "execute_result"
    }
   ],
   "source": [
    "# Make sure to get all missing data\n",
    "total = df.isnull().sum().sort_values(ascending=False)\n",
    "percent = (df.isnull().sum()/df.isnull().count()).sort_values(ascending=False)\n",
    "missing_data = pd.concat([total, percent], axis=1, keys=['Total', 'Percent'])\n",
    "missing_data.head(20)"
   ]
  },
  {
   "cell_type": "code",
   "execution_count": 28,
   "id": "accepting-bracket",
   "metadata": {},
   "outputs": [
    {
     "data": {
      "text/plain": [
       "Text(0.5, 1.0, 'Percent missing data by feature')"
      ]
     },
     "execution_count": 28,
     "metadata": {},
     "output_type": "execute_result"
    },
    {
     "data": {
      "image/png": "[encoded data removed]",
      "text/plain": [
       "<Figure size 1080x864 with 1 Axes>"
      ]
     },
     "metadata": {
      "needs_background": "light"
     },
     "output_type": "display_data"
    }
   ],
   "source": [
    "# Plot missing values\n",
    "f, ax = plt.subplots(figsize=(15, 12))\n",
    "plt.xticks(rotation='90')\n",
    "sns.barplot(x=total.index, y=total)\n",
    "plt.xlabel('Features', fontsize=15)\n",
    "plt.ylabel('Percent of missing values', fontsize=15)\n",
    "plt.title('Percent missing data by feature', fontsize=15)\n"
   ]
  },
  {
   "cell_type": "markdown",
   "id": "curious-thomson",
   "metadata": {},
   "source": [
    "### Outlier Analysis"
   ]
  },
  {
   "cell_type": "code",
   "execution_count": 29,
   "id": "olive-accent",
   "metadata": {},
   "outputs": [
    {
     "data": {
      "image/png": "[encoded data removed]",
      "text/plain": [
       "<Figure size 1080x720 with 1 Axes>"
      ]
     },
     "metadata": {
      "needs_background": "light"
     },
     "output_type": "display_data"
    }
   ],
   "source": [
    "plt.figure(figsize=(15,10))\n",
    "\n",
    "plt.subplot(2, 2, 1)\n",
    "ax = sns.boxplot(y=df[\"screen_size\"])\n",
    "ax.set_xlabel(\"screen_size\")\n",
    "sns.set(style=\"darkgrid\")"
   ]
  },
  {
   "cell_type": "code",
   "execution_count": 30,
   "id": "wicked-roommate",
   "metadata": {},
   "outputs": [
    {
     "data": {
      "image/png": "[encoded data removed]",
      "text/plain": [
       "<Figure size 1080x720 with 1 Axes>"
      ]
     },
     "metadata": {},
     "output_type": "display_data"
    }
   ],
   "source": [
    "plt.figure(figsize=(15,10))\n",
    "\n",
    "plt.subplot(2, 2, 1)\n",
    "ax = sns.boxplot(y=df[\"weight\"])\n",
    "ax.set_xlabel(\"weight\")\n",
    "sns.set(style=\"darkgrid\")"
   ]
  },
  {
   "cell_type": "code",
   "execution_count": 31,
   "id": "durable-nowhere",
   "metadata": {},
   "outputs": [
    {
     "data": {
      "image/png": "[encoded data removed]",
      "text/plain": [
       "<Figure size 1080x720 with 1 Axes>"
      ]
     },
     "metadata": {},
     "output_type": "display_data"
    }
   ],
   "source": [
    "plt.figure(figsize=(15,10))\n",
    "\n",
    "plt.subplot(2, 2, 1)\n",
    "ax = sns.boxplot(y=df[\"front_camera_mp\"])\n",
    "ax.set_xlabel(\"front_camera_mp\")\n",
    "sns.set(style=\"darkgrid\")"
   ]
  },
  {
   "cell_type": "code",
   "execution_count": 32,
   "id": "unable-vector",
   "metadata": {},
   "outputs": [
    {
     "data": {
      "image/png": "[encoded data removed]",
      "text/plain": [
       "<Figure size 1080x720 with 1 Axes>"
      ]
     },
     "metadata": {},
     "output_type": "display_data"
    }
   ],
   "source": [
    "plt.figure(figsize=(15,10))\n",
    "\n",
    "plt.subplot(2, 2, 1)\n",
    "ax = sns.boxplot(y=df[\"rear_camera_mp\"])\n",
    "ax.set_xlabel(\"rear_camera_mp\")\n",
    "sns.set(style=\"darkgrid\")"
   ]
  },
  {
   "cell_type": "markdown",
   "id": "national-villa",
   "metadata": {},
   "source": [
    "## 4. Feature engineering"
   ]
  },
  {
   "cell_type": "code",
   "execution_count": 33,
   "id": "beneficial-anger",
   "metadata": {},
   "outputs": [
    {
     "data": {
      "text/plain": [
       "['screen_size',\n",
       " 'rear_camera_mp',\n",
       " 'front_camera_mp',\n",
       " 'internal_memory',\n",
       " 'ram',\n",
       " 'battery',\n",
       " 'weight',\n",
       " 'release_year',\n",
       " 'days_used',\n",
       " 'normalized_used_price',\n",
       " 'normalized_new_price']"
      ]
     },
     "execution_count": 33,
     "metadata": {},
     "output_type": "execute_result"
    }
   ],
   "source": [
    "numeric_types = ['float16', 'float32', 'float64', 'int16', 'int32', 'int64']  # the numeric types in Pandas\n",
    "\n",
    "numerical_columns = df.select_dtypes(include=numeric_types).columns.tolist()\n",
    "\n",
    "numerical_columns"
   ]
  },
  {
   "cell_type": "markdown",
   "id": "given-finger",
   "metadata": {},
   "source": [
    "### Feature scaling"
   ]
  },
  {
   "cell_type": "code",
   "execution_count": 34,
   "id": "athletic-swift",
   "metadata": {},
   "outputs": [
    {
     "data": {
      "text/html": [
       "<div>\n",
       "<style scoped>\n",
       "    .dataframe tbody tr th:only-of-type {\n",
       "        vertical-align: middle;\n",
       "    }\n",
       "\n",
       "    .dataframe tbody tr th {\n",
       "        vertical-align: top;\n",
       "    }\n",
       "\n",
       "    .dataframe thead th {\n",
       "        text-align: right;\n",
       "    }\n",
       "</style>\n",
       "<table border=\"1\" class=\"dataframe\">\n",
       "  <thead>\n",
       "    <tr style=\"text-align: right;\">\n",
       "      <th></th>\n",
       "      <th>count</th>\n",
       "      <th>mean</th>\n",
       "      <th>std</th>\n",
       "      <th>min</th>\n",
       "      <th>25%</th>\n",
       "      <th>50%</th>\n",
       "      <th>75%</th>\n",
       "      <th>max</th>\n",
       "    </tr>\n",
       "  </thead>\n",
       "  <tbody>\n",
       "    <tr>\n",
       "      <th>screen_size</th>\n",
       "      <td>3454.0</td>\n",
       "      <td>13.713115</td>\n",
       "      <td>3.805280</td>\n",
       "      <td>5.080000</td>\n",
       "      <td>12.700000</td>\n",
       "      <td>12.830000</td>\n",
       "      <td>15.340000</td>\n",
       "      <td>30.710000</td>\n",
       "    </tr>\n",
       "    <tr>\n",
       "      <th>rear_camera_mp</th>\n",
       "      <td>3275.0</td>\n",
       "      <td>9.460208</td>\n",
       "      <td>4.815461</td>\n",
       "      <td>0.080000</td>\n",
       "      <td>5.000000</td>\n",
       "      <td>8.000000</td>\n",
       "      <td>13.000000</td>\n",
       "      <td>48.000000</td>\n",
       "    </tr>\n",
       "    <tr>\n",
       "      <th>front_camera_mp</th>\n",
       "      <td>3452.0</td>\n",
       "      <td>6.554229</td>\n",
       "      <td>6.970372</td>\n",
       "      <td>0.000000</td>\n",
       "      <td>2.000000</td>\n",
       "      <td>5.000000</td>\n",
       "      <td>8.000000</td>\n",
       "      <td>32.000000</td>\n",
       "    </tr>\n",
       "    <tr>\n",
       "      <th>internal_memory</th>\n",
       "      <td>3450.0</td>\n",
       "      <td>54.573099</td>\n",
       "      <td>84.972371</td>\n",
       "      <td>0.010000</td>\n",
       "      <td>16.000000</td>\n",
       "      <td>32.000000</td>\n",
       "      <td>64.000000</td>\n",
       "      <td>1024.000000</td>\n",
       "    </tr>\n",
       "    <tr>\n",
       "      <th>ram</th>\n",
       "      <td>3450.0</td>\n",
       "      <td>4.036122</td>\n",
       "      <td>1.365105</td>\n",
       "      <td>0.020000</td>\n",
       "      <td>4.000000</td>\n",
       "      <td>4.000000</td>\n",
       "      <td>4.000000</td>\n",
       "      <td>12.000000</td>\n",
       "    </tr>\n",
       "    <tr>\n",
       "      <th>battery</th>\n",
       "      <td>3448.0</td>\n",
       "      <td>3133.402697</td>\n",
       "      <td>1299.682844</td>\n",
       "      <td>500.000000</td>\n",
       "      <td>2100.000000</td>\n",
       "      <td>3000.000000</td>\n",
       "      <td>4000.000000</td>\n",
       "      <td>9720.000000</td>\n",
       "    </tr>\n",
       "    <tr>\n",
       "      <th>weight</th>\n",
       "      <td>3447.0</td>\n",
       "      <td>182.751871</td>\n",
       "      <td>88.413228</td>\n",
       "      <td>69.000000</td>\n",
       "      <td>142.000000</td>\n",
       "      <td>160.000000</td>\n",
       "      <td>185.000000</td>\n",
       "      <td>855.000000</td>\n",
       "    </tr>\n",
       "    <tr>\n",
       "      <th>release_year</th>\n",
       "      <td>3454.0</td>\n",
       "      <td>2015.965258</td>\n",
       "      <td>2.298455</td>\n",
       "      <td>2013.000000</td>\n",
       "      <td>2014.000000</td>\n",
       "      <td>2015.500000</td>\n",
       "      <td>2018.000000</td>\n",
       "      <td>2020.000000</td>\n",
       "    </tr>\n",
       "    <tr>\n",
       "      <th>days_used</th>\n",
       "      <td>3454.0</td>\n",
       "      <td>674.869716</td>\n",
       "      <td>248.580166</td>\n",
       "      <td>91.000000</td>\n",
       "      <td>533.500000</td>\n",
       "      <td>690.500000</td>\n",
       "      <td>868.750000</td>\n",
       "      <td>1094.000000</td>\n",
       "    </tr>\n",
       "    <tr>\n",
       "      <th>normalized_used_price</th>\n",
       "      <td>3454.0</td>\n",
       "      <td>4.364712</td>\n",
       "      <td>0.588914</td>\n",
       "      <td>1.536867</td>\n",
       "      <td>4.033931</td>\n",
       "      <td>4.405133</td>\n",
       "      <td>4.755700</td>\n",
       "      <td>6.619433</td>\n",
       "    </tr>\n",
       "    <tr>\n",
       "      <th>normalized_new_price</th>\n",
       "      <td>3454.0</td>\n",
       "      <td>5.233107</td>\n",
       "      <td>0.683637</td>\n",
       "      <td>2.901422</td>\n",
       "      <td>4.790342</td>\n",
       "      <td>5.245892</td>\n",
       "      <td>5.673718</td>\n",
       "      <td>7.847841</td>\n",
       "    </tr>\n",
       "  </tbody>\n",
       "</table>\n",
       "</div>"
      ],
      "text/plain": [
       "                        count         mean          std          min  \\\n",
       "screen_size            3454.0    13.713115     3.805280     5.080000   \n",
       "rear_camera_mp         3275.0     9.460208     4.815461     0.080000   \n",
       "front_camera_mp        3452.0     6.554229     6.970372     0.000000   \n",
       "internal_memory        3450.0    54.573099    84.972371     0.010000   \n",
       "ram                    3450.0     4.036122     1.365105     0.020000   \n",
       "battery                3448.0  3133.402697  1299.682844   500.000000   \n",
       "weight                 3447.0   182.751871    88.413228    69.000000   \n",
       "release_year           3454.0  2015.965258     2.298455  2013.000000   \n",
       "days_used              3454.0   674.869716   248.580166    91.000000   \n",
       "normalized_used_price  3454.0     4.364712     0.588914     1.536867   \n",
       "normalized_new_price   3454.0     5.233107     0.683637     2.901422   \n",
       "\n",
       "                               25%          50%          75%          max  \n",
       "screen_size              12.700000    12.830000    15.340000    30.710000  \n",
       "rear_camera_mp            5.000000     8.000000    13.000000    48.000000  \n",
       "front_camera_mp           2.000000     5.000000     8.000000    32.000000  \n",
       "internal_memory          16.000000    32.000000    64.000000  1024.000000  \n",
       "ram                       4.000000     4.000000     4.000000    12.000000  \n",
       "battery                2100.000000  3000.000000  4000.000000  9720.000000  \n",
       "weight                  142.000000   160.000000   185.000000   855.000000  \n",
       "release_year           2014.000000  2015.500000  2018.000000  2020.000000  \n",
       "days_used               533.500000   690.500000   868.750000  1094.000000  \n",
       "normalized_used_price     4.033931     4.405133     4.755700     6.619433  \n",
       "normalized_new_price      4.790342     5.245892     5.673718     7.847841  "
      ]
     },
     "execution_count": 34,
     "metadata": {},
     "output_type": "execute_result"
    }
   ],
   "source": [
    "df[numerical_columns].describe().T"
   ]
  },
  {
   "cell_type": "code",
   "execution_count": 35,
   "id": "actual-teddy",
   "metadata": {},
   "outputs": [
    {
     "data": {
      "text/html": [
       "<div>\n",
       "<style scoped>\n",
       "    .dataframe tbody tr th:only-of-type {\n",
       "        vertical-align: middle;\n",
       "    }\n",
       "\n",
       "    .dataframe tbody tr th {\n",
       "        vertical-align: top;\n",
       "    }\n",
       "\n",
       "    .dataframe thead th {\n",
       "        text-align: right;\n",
       "    }\n",
       "</style>\n",
       "<table border=\"1\" class=\"dataframe\">\n",
       "  <thead>\n",
       "    <tr style=\"text-align: right;\">\n",
       "      <th></th>\n",
       "      <th>count</th>\n",
       "      <th>mean</th>\n",
       "      <th>std</th>\n",
       "      <th>min</th>\n",
       "      <th>25%</th>\n",
       "      <th>50%</th>\n",
       "      <th>75%</th>\n",
       "      <th>max</th>\n",
       "    </tr>\n",
       "  </thead>\n",
       "  <tbody>\n",
       "    <tr>\n",
       "      <th>screen_size</th>\n",
       "      <td>3454.0</td>\n",
       "      <td>0.336836</td>\n",
       "      <td>0.148470</td>\n",
       "      <td>0.0</td>\n",
       "      <td>0.297308</td>\n",
       "      <td>0.302380</td>\n",
       "      <td>0.400312</td>\n",
       "      <td>1.0</td>\n",
       "    </tr>\n",
       "    <tr>\n",
       "      <th>rear_camera_mp</th>\n",
       "      <td>3275.0</td>\n",
       "      <td>0.195747</td>\n",
       "      <td>0.100490</td>\n",
       "      <td>0.0</td>\n",
       "      <td>0.102671</td>\n",
       "      <td>0.165275</td>\n",
       "      <td>0.269616</td>\n",
       "      <td>1.0</td>\n",
       "    </tr>\n",
       "    <tr>\n",
       "      <th>front_camera_mp</th>\n",
       "      <td>3452.0</td>\n",
       "      <td>0.204820</td>\n",
       "      <td>0.217824</td>\n",
       "      <td>0.0</td>\n",
       "      <td>0.062500</td>\n",
       "      <td>0.156250</td>\n",
       "      <td>0.250000</td>\n",
       "      <td>1.0</td>\n",
       "    </tr>\n",
       "    <tr>\n",
       "      <th>internal_memory</th>\n",
       "      <td>3450.0</td>\n",
       "      <td>0.053285</td>\n",
       "      <td>0.082982</td>\n",
       "      <td>0.0</td>\n",
       "      <td>0.015615</td>\n",
       "      <td>0.031241</td>\n",
       "      <td>0.062491</td>\n",
       "      <td>1.0</td>\n",
       "    </tr>\n",
       "    <tr>\n",
       "      <th>ram</th>\n",
       "      <td>3450.0</td>\n",
       "      <td>0.335236</td>\n",
       "      <td>0.113949</td>\n",
       "      <td>0.0</td>\n",
       "      <td>0.332220</td>\n",
       "      <td>0.332220</td>\n",
       "      <td>0.332220</td>\n",
       "      <td>1.0</td>\n",
       "    </tr>\n",
       "    <tr>\n",
       "      <th>battery</th>\n",
       "      <td>3448.0</td>\n",
       "      <td>0.285619</td>\n",
       "      <td>0.140963</td>\n",
       "      <td>0.0</td>\n",
       "      <td>0.173536</td>\n",
       "      <td>0.271150</td>\n",
       "      <td>0.379610</td>\n",
       "      <td>1.0</td>\n",
       "    </tr>\n",
       "    <tr>\n",
       "      <th>weight</th>\n",
       "      <td>3447.0</td>\n",
       "      <td>0.144722</td>\n",
       "      <td>0.112485</td>\n",
       "      <td>0.0</td>\n",
       "      <td>0.092875</td>\n",
       "      <td>0.115776</td>\n",
       "      <td>0.147583</td>\n",
       "      <td>1.0</td>\n",
       "    </tr>\n",
       "    <tr>\n",
       "      <th>release_year</th>\n",
       "      <td>3454.0</td>\n",
       "      <td>0.423608</td>\n",
       "      <td>0.328351</td>\n",
       "      <td>0.0</td>\n",
       "      <td>0.142857</td>\n",
       "      <td>0.357143</td>\n",
       "      <td>0.714286</td>\n",
       "      <td>1.0</td>\n",
       "    </tr>\n",
       "    <tr>\n",
       "      <th>days_used</th>\n",
       "      <td>3454.0</td>\n",
       "      <td>0.582123</td>\n",
       "      <td>0.247837</td>\n",
       "      <td>0.0</td>\n",
       "      <td>0.441176</td>\n",
       "      <td>0.597707</td>\n",
       "      <td>0.775424</td>\n",
       "      <td>1.0</td>\n",
       "    </tr>\n",
       "    <tr>\n",
       "      <th>normalized_used_price</th>\n",
       "      <td>3454.0</td>\n",
       "      <td>0.556381</td>\n",
       "      <td>0.115869</td>\n",
       "      <td>0.0</td>\n",
       "      <td>0.491300</td>\n",
       "      <td>0.564334</td>\n",
       "      <td>0.633309</td>\n",
       "      <td>1.0</td>\n",
       "    </tr>\n",
       "    <tr>\n",
       "      <th>normalized_new_price</th>\n",
       "      <td>3454.0</td>\n",
       "      <td>0.471389</td>\n",
       "      <td>0.138208</td>\n",
       "      <td>0.0</td>\n",
       "      <td>0.381876</td>\n",
       "      <td>0.473973</td>\n",
       "      <td>0.560465</td>\n",
       "      <td>1.0</td>\n",
       "    </tr>\n",
       "  </tbody>\n",
       "</table>\n",
       "</div>"
      ],
      "text/plain": [
       "                        count      mean       std  min       25%       50%  \\\n",
       "screen_size            3454.0  0.336836  0.148470  0.0  0.297308  0.302380   \n",
       "rear_camera_mp         3275.0  0.195747  0.100490  0.0  0.102671  0.165275   \n",
       "front_camera_mp        3452.0  0.204820  0.217824  0.0  0.062500  0.156250   \n",
       "internal_memory        3450.0  0.053285  0.082982  0.0  0.015615  0.031241   \n",
       "ram                    3450.0  0.335236  0.113949  0.0  0.332220  0.332220   \n",
       "battery                3448.0  0.285619  0.140963  0.0  0.173536  0.271150   \n",
       "weight                 3447.0  0.144722  0.112485  0.0  0.092875  0.115776   \n",
       "release_year           3454.0  0.423608  0.328351  0.0  0.142857  0.357143   \n",
       "days_used              3454.0  0.582123  0.247837  0.0  0.441176  0.597707   \n",
       "normalized_used_price  3454.0  0.556381  0.115869  0.0  0.491300  0.564334   \n",
       "normalized_new_price   3454.0  0.471389  0.138208  0.0  0.381876  0.473973   \n",
       "\n",
       "                            75%  max  \n",
       "screen_size            0.400312  1.0  \n",
       "rear_camera_mp         0.269616  1.0  \n",
       "front_camera_mp        0.250000  1.0  \n",
       "internal_memory        0.062491  1.0  \n",
       "ram                    0.332220  1.0  \n",
       "battery                0.379610  1.0  \n",
       "weight                 0.147583  1.0  \n",
       "release_year           0.714286  1.0  \n",
       "days_used              0.775424  1.0  \n",
       "normalized_used_price  0.633309  1.0  \n",
       "normalized_new_price   0.560465  1.0  "
      ]
     },
     "execution_count": 35,
     "metadata": {},
     "output_type": "execute_result"
    }
   ],
   "source": [
    "from sklearn.preprocessing import MinMaxScaler\n",
    "\n",
    "pd.DataFrame(  \n",
    "    MinMaxScaler().fit_transform(df[numerical_columns]),\n",
    "    columns=numerical_columns\n",
    ").describe().T"
   ]
  },
  {
   "cell_type": "markdown",
   "id": "settled-current",
   "metadata": {},
   "source": [
    "### Feature Improvement"
   ]
  },
  {
   "cell_type": "code",
   "execution_count": 37,
   "id": "internal-lodging",
   "metadata": {},
   "outputs": [],
   "source": [
    "# Imputing Missing Quantitative Data\n",
    "from sklearn.impute import SimpleImputer  # sklearn class to impute missing data\n",
    "\n",
    "# could be mean or median for numerical values\n",
    "numerical_imputer = SimpleImputer(strategy='median')\n",
    "\n",
    "df['weight'] = numerical_imputer.fit_transform(df[['weight']])\n",
    "df['battery'] = numerical_imputer.fit_transform(df[['battery']])\n",
    "df['internal_memory'] = numerical_imputer.fit_transform(df[['internal_memory']])\n",
    "df['ram'] = numerical_imputer.fit_transform(df[['ram']])\n",
    "df['front_camera_mp'] = numerical_imputer.fit_transform(df[['front_camera_mp']])\n",
    "df['rear_camera_mp'] = numerical_imputer.fit_transform(df[['rear_camera_mp']])"
   ]
  },
  {
   "cell_type": "markdown",
   "id": "individual-nylon",
   "metadata": {},
   "source": [
    "### One-hot encoding"
   ]
  },
  {
   "cell_type": "code",
   "execution_count": 38,
   "id": "exact-argument",
   "metadata": {},
   "outputs": [
    {
     "data": {
      "text/html": [
       "<div>\n",
       "<style scoped>\n",
       "    .dataframe tbody tr th:only-of-type {\n",
       "        vertical-align: middle;\n",
       "    }\n",
       "\n",
       "    .dataframe tbody tr th {\n",
       "        vertical-align: top;\n",
       "    }\n",
       "\n",
       "    .dataframe thead th {\n",
       "        text-align: right;\n",
       "    }\n",
       "</style>\n",
       "<table border=\"1\" class=\"dataframe\">\n",
       "  <thead>\n",
       "    <tr style=\"text-align: right;\">\n",
       "      <th></th>\n",
       "      <th>device_brand</th>\n",
       "      <th>os</th>\n",
       "      <th>4g</th>\n",
       "      <th>5g</th>\n",
       "    </tr>\n",
       "  </thead>\n",
       "  <tbody>\n",
       "    <tr>\n",
       "      <th>0</th>\n",
       "      <td>Honor</td>\n",
       "      <td>Android</td>\n",
       "      <td>yes</td>\n",
       "      <td>no</td>\n",
       "    </tr>\n",
       "    <tr>\n",
       "      <th>1</th>\n",
       "      <td>Honor</td>\n",
       "      <td>Android</td>\n",
       "      <td>yes</td>\n",
       "      <td>yes</td>\n",
       "    </tr>\n",
       "    <tr>\n",
       "      <th>2</th>\n",
       "      <td>Honor</td>\n",
       "      <td>Android</td>\n",
       "      <td>yes</td>\n",
       "      <td>yes</td>\n",
       "    </tr>\n",
       "    <tr>\n",
       "      <th>3</th>\n",
       "      <td>Honor</td>\n",
       "      <td>Android</td>\n",
       "      <td>yes</td>\n",
       "      <td>yes</td>\n",
       "    </tr>\n",
       "    <tr>\n",
       "      <th>4</th>\n",
       "      <td>Honor</td>\n",
       "      <td>Android</td>\n",
       "      <td>yes</td>\n",
       "      <td>no</td>\n",
       "    </tr>\n",
       "  </tbody>\n",
       "</table>\n",
       "</div>"
      ],
      "text/plain": [
       "  device_brand       os   4g   5g\n",
       "0        Honor  Android  yes   no\n",
       "1        Honor  Android  yes  yes\n",
       "2        Honor  Android  yes  yes\n",
       "3        Honor  Android  yes  yes\n",
       "4        Honor  Android  yes   no"
      ]
     },
     "execution_count": 38,
     "metadata": {},
     "output_type": "execute_result"
    }
   ],
   "source": [
    "cat_df.head()"
   ]
  },
  {
   "cell_type": "code",
   "execution_count": 39,
   "id": "played-camcorder",
   "metadata": {},
   "outputs": [],
   "source": [
    "categorical_cols = ['device_brand', 'os', '4g', '5g']"
   ]
  },
  {
   "cell_type": "code",
   "execution_count": 40,
   "id": "leading-library",
   "metadata": {},
   "outputs": [],
   "source": [
    "from sklearn.preprocessing import LabelEncoder\n",
    "\n",
    "# instantiate labelencoder object\n",
    "le = LabelEncoder()\n",
    "\n",
    "# apply le on categorical feature columns\n",
    "df[categorical_cols] = df[categorical_cols].apply(lambda col: le.fit_transform(col))    \n",
    "from sklearn.preprocessing import OneHotEncoder\n",
    "ohe = OneHotEncoder()\n",
    "\n",
    "#One-hot-encode the categorical columns.\n",
    "#Unfortunately outputs an array instead of dataframe.\n",
    "array_hot_encoded = ohe.fit_transform(df[categorical_cols])\n",
    "\n",
    "#Convert it to df\n",
    "data_hot_encoded = pd.DataFrame(array_hot_encoded, index=df.index)\n",
    "\n",
    "#Extract only the columns that didnt need to be encoded\n",
    "data_other_cols = df.drop(columns=categorical_cols)\n",
    "\n",
    "#Concatenate the two dataframes : \n",
    "data_out = pd.concat([data_hot_encoded, data_other_cols], axis=1)"
   ]
  },
  {
   "cell_type": "code",
   "execution_count": 41,
   "id": "packed-unemployment",
   "metadata": {},
   "outputs": [
    {
     "data": {
      "text/html": [
       "<div>\n",
       "<style scoped>\n",
       "    .dataframe tbody tr th:only-of-type {\n",
       "        vertical-align: middle;\n",
       "    }\n",
       "\n",
       "    .dataframe tbody tr th {\n",
       "        vertical-align: top;\n",
       "    }\n",
       "\n",
       "    .dataframe thead th {\n",
       "        text-align: right;\n",
       "    }\n",
       "</style>\n",
       "<table border=\"1\" class=\"dataframe\">\n",
       "  <thead>\n",
       "    <tr style=\"text-align: right;\">\n",
       "      <th></th>\n",
       "      <th>0</th>\n",
       "      <th>1</th>\n",
       "      <th>2</th>\n",
       "      <th>3</th>\n",
       "      <th>4</th>\n",
       "    </tr>\n",
       "  </thead>\n",
       "  <tbody>\n",
       "    <tr>\n",
       "      <th>device_brand</th>\n",
       "      <td>10.000000</td>\n",
       "      <td>10.000000</td>\n",
       "      <td>10.000000</td>\n",
       "      <td>10.000000</td>\n",
       "      <td>10.000000</td>\n",
       "    </tr>\n",
       "    <tr>\n",
       "      <th>os</th>\n",
       "      <td>0.000000</td>\n",
       "      <td>0.000000</td>\n",
       "      <td>0.000000</td>\n",
       "      <td>0.000000</td>\n",
       "      <td>0.000000</td>\n",
       "    </tr>\n",
       "    <tr>\n",
       "      <th>screen_size</th>\n",
       "      <td>14.500000</td>\n",
       "      <td>17.300000</td>\n",
       "      <td>16.690000</td>\n",
       "      <td>25.500000</td>\n",
       "      <td>15.320000</td>\n",
       "    </tr>\n",
       "    <tr>\n",
       "      <th>4g</th>\n",
       "      <td>1.000000</td>\n",
       "      <td>1.000000</td>\n",
       "      <td>1.000000</td>\n",
       "      <td>1.000000</td>\n",
       "      <td>1.000000</td>\n",
       "    </tr>\n",
       "    <tr>\n",
       "      <th>5g</th>\n",
       "      <td>0.000000</td>\n",
       "      <td>1.000000</td>\n",
       "      <td>1.000000</td>\n",
       "      <td>1.000000</td>\n",
       "      <td>0.000000</td>\n",
       "    </tr>\n",
       "    <tr>\n",
       "      <th>rear_camera_mp</th>\n",
       "      <td>13.000000</td>\n",
       "      <td>13.000000</td>\n",
       "      <td>13.000000</td>\n",
       "      <td>13.000000</td>\n",
       "      <td>13.000000</td>\n",
       "    </tr>\n",
       "    <tr>\n",
       "      <th>front_camera_mp</th>\n",
       "      <td>5.000000</td>\n",
       "      <td>16.000000</td>\n",
       "      <td>8.000000</td>\n",
       "      <td>8.000000</td>\n",
       "      <td>8.000000</td>\n",
       "    </tr>\n",
       "    <tr>\n",
       "      <th>internal_memory</th>\n",
       "      <td>64.000000</td>\n",
       "      <td>128.000000</td>\n",
       "      <td>128.000000</td>\n",
       "      <td>64.000000</td>\n",
       "      <td>64.000000</td>\n",
       "    </tr>\n",
       "    <tr>\n",
       "      <th>ram</th>\n",
       "      <td>3.000000</td>\n",
       "      <td>8.000000</td>\n",
       "      <td>8.000000</td>\n",
       "      <td>6.000000</td>\n",
       "      <td>3.000000</td>\n",
       "    </tr>\n",
       "    <tr>\n",
       "      <th>battery</th>\n",
       "      <td>3020.000000</td>\n",
       "      <td>4300.000000</td>\n",
       "      <td>4200.000000</td>\n",
       "      <td>7250.000000</td>\n",
       "      <td>5000.000000</td>\n",
       "    </tr>\n",
       "    <tr>\n",
       "      <th>weight</th>\n",
       "      <td>146.000000</td>\n",
       "      <td>213.000000</td>\n",
       "      <td>213.000000</td>\n",
       "      <td>480.000000</td>\n",
       "      <td>185.000000</td>\n",
       "    </tr>\n",
       "    <tr>\n",
       "      <th>release_year</th>\n",
       "      <td>2020.000000</td>\n",
       "      <td>2020.000000</td>\n",
       "      <td>2020.000000</td>\n",
       "      <td>2020.000000</td>\n",
       "      <td>2020.000000</td>\n",
       "    </tr>\n",
       "    <tr>\n",
       "      <th>days_used</th>\n",
       "      <td>127.000000</td>\n",
       "      <td>325.000000</td>\n",
       "      <td>162.000000</td>\n",
       "      <td>345.000000</td>\n",
       "      <td>293.000000</td>\n",
       "    </tr>\n",
       "    <tr>\n",
       "      <th>normalized_used_price</th>\n",
       "      <td>4.307572</td>\n",
       "      <td>5.162097</td>\n",
       "      <td>5.111084</td>\n",
       "      <td>5.135387</td>\n",
       "      <td>4.389995</td>\n",
       "    </tr>\n",
       "    <tr>\n",
       "      <th>normalized_new_price</th>\n",
       "      <td>4.715100</td>\n",
       "      <td>5.519018</td>\n",
       "      <td>5.884631</td>\n",
       "      <td>5.630961</td>\n",
       "      <td>4.947837</td>\n",
       "    </tr>\n",
       "  </tbody>\n",
       "</table>\n",
       "</div>"
      ],
      "text/plain": [
       "                                 0            1            2            3  \\\n",
       "device_brand             10.000000    10.000000    10.000000    10.000000   \n",
       "os                        0.000000     0.000000     0.000000     0.000000   \n",
       "screen_size              14.500000    17.300000    16.690000    25.500000   \n",
       "4g                        1.000000     1.000000     1.000000     1.000000   \n",
       "5g                        0.000000     1.000000     1.000000     1.000000   \n",
       "rear_camera_mp           13.000000    13.000000    13.000000    13.000000   \n",
       "front_camera_mp           5.000000    16.000000     8.000000     8.000000   \n",
       "internal_memory          64.000000   128.000000   128.000000    64.000000   \n",
       "ram                       3.000000     8.000000     8.000000     6.000000   \n",
       "battery                3020.000000  4300.000000  4200.000000  7250.000000   \n",
       "weight                  146.000000   213.000000   213.000000   480.000000   \n",
       "release_year           2020.000000  2020.000000  2020.000000  2020.000000   \n",
       "days_used               127.000000   325.000000   162.000000   345.000000   \n",
       "normalized_used_price     4.307572     5.162097     5.111084     5.135387   \n",
       "normalized_new_price      4.715100     5.519018     5.884631     5.630961   \n",
       "\n",
       "                                 4  \n",
       "device_brand             10.000000  \n",
       "os                        0.000000  \n",
       "screen_size              15.320000  \n",
       "4g                        1.000000  \n",
       "5g                        0.000000  \n",
       "rear_camera_mp           13.000000  \n",
       "front_camera_mp           8.000000  \n",
       "internal_memory          64.000000  \n",
       "ram                       3.000000  \n",
       "battery                5000.000000  \n",
       "weight                  185.000000  \n",
       "release_year           2020.000000  \n",
       "days_used               293.000000  \n",
       "normalized_used_price     4.389995  \n",
       "normalized_new_price      4.947837  "
      ]
     },
     "execution_count": 41,
     "metadata": {},
     "output_type": "execute_result"
    }
   ],
   "source": [
    "df.head().T"
   ]
  },
  {
   "cell_type": "code",
   "execution_count": 42,
   "id": "lesbian-pilot",
   "metadata": {},
   "outputs": [
    {
     "name": "stdout",
     "output_type": "stream",
     "text": [
      "<class 'pandas.core.frame.DataFrame'>\n",
      "RangeIndex: 3454 entries, 0 to 3453\n",
      "Data columns (total 15 columns):\n",
      " #   Column                 Non-Null Count  Dtype  \n",
      "---  ------                 --------------  -----  \n",
      " 0   device_brand           3454 non-null   int64  \n",
      " 1   os                     3454 non-null   int64  \n",
      " 2   screen_size            3454 non-null   float64\n",
      " 3   4g                     3454 non-null   int64  \n",
      " 4   5g                     3454 non-null   int64  \n",
      " 5   rear_camera_mp         3454 non-null   float64\n",
      " 6   front_camera_mp        3454 non-null   float64\n",
      " 7   internal_memory        3454 non-null   float64\n",
      " 8   ram                    3454 non-null   float64\n",
      " 9   battery                3454 non-null   float64\n",
      " 10  weight                 3454 non-null   float64\n",
      " 11  release_year           3454 non-null   int64  \n",
      " 12  days_used              3454 non-null   int64  \n",
      " 13  normalized_used_price  3454 non-null   float64\n",
      " 14  normalized_new_price   3454 non-null   float64\n",
      "dtypes: float64(9), int64(6)\n",
      "memory usage: 404.9 KB\n"
     ]
    }
   ],
   "source": [
    "df.info()"
   ]
  },
  {
   "cell_type": "markdown",
   "id": "mysterious-unemployment",
   "metadata": {},
   "source": [
    "## Baseline model"
   ]
  },
  {
   "cell_type": "code",
   "execution_count": 55,
   "id": "cooperative-registrar",
   "metadata": {},
   "outputs": [],
   "source": [
    "base = ['release_year', 'days_used', 'normalized_new_price']"
   ]
  },
  {
   "cell_type": "code",
   "execution_count": 56,
   "id": "violent-endorsement",
   "metadata": {},
   "outputs": [],
   "source": [
    "# isolate the target and filter the features we want to use\n",
    "def baseline_model(X):\n",
    "    target = X[\"normalized_used_price\"]\n",
    "    X = X[base]\n",
    "    return X, target"
   ]
  },
  {
   "cell_type": "code",
   "execution_count": 57,
   "id": "stunning-savannah",
   "metadata": {},
   "outputs": [],
   "source": [
    "X, y = baseline_model(df.copy())"
   ]
  },
  {
   "cell_type": "code",
   "execution_count": 58,
   "id": "accessory-toddler",
   "metadata": {},
   "outputs": [
    {
     "data": {
      "text/html": [
       "<style>#sk-container-id-3 {color: black;background-color: white;}#sk-container-id-3 pre{padding: 0;}#sk-container-id-3 div.sk-toggleable {background-color: white;}#sk-container-id-3 label.sk-toggleable__label {cursor: pointer;display: block;width: 100%;margin-bottom: 0;padding: 0.3em;box-sizing: border-box;text-align: center;}#sk-container-id-3 label.sk-toggleable__label-arrow:before {content: \"▸\";float: left;margin-right: 0.25em;color: #696969;}#sk-container-id-3 label.sk-toggleable__label-arrow:hover:before {color: black;}#sk-container-id-3 div.sk-estimator:hover label.sk-toggleable__label-arrow:before {color: black;}#sk-container-id-3 div.sk-toggleable__content {max-height: 0;max-width: 0;overflow: hidden;text-align: left;background-color: #f0f8ff;}#sk-container-id-3 div.sk-toggleable__content pre {margin: 0.2em;color: black;border-radius: 0.25em;background-color: #f0f8ff;}#sk-container-id-3 input.sk-toggleable__control:checked~div.sk-toggleable__content {max-height: 200px;max-width: 100%;overflow: auto;}#sk-container-id-3 input.sk-toggleable__control:checked~label.sk-toggleable__label-arrow:before {content: \"▾\";}#sk-container-id-3 div.sk-estimator input.sk-toggleable__control:checked~label.sk-toggleable__label {background-color: #d4ebff;}#sk-container-id-3 div.sk-label input.sk-toggleable__control:checked~label.sk-toggleable__label {background-color: #d4ebff;}#sk-container-id-3 input.sk-hidden--visually {border: 0;clip: rect(1px 1px 1px 1px);clip: rect(1px, 1px, 1px, 1px);height: 1px;margin: -1px;overflow: hidden;padding: 0;position: absolute;width: 1px;}#sk-container-id-3 div.sk-estimator {font-family: monospace;background-color: #f0f8ff;border: 1px dotted black;border-radius: 0.25em;box-sizing: border-box;margin-bottom: 0.5em;}#sk-container-id-3 div.sk-estimator:hover {background-color: #d4ebff;}#sk-container-id-3 div.sk-parallel-item::after {content: \"\";width: 100%;border-bottom: 1px solid gray;flex-grow: 1;}#sk-container-id-3 div.sk-label:hover label.sk-toggleable__label {background-color: #d4ebff;}#sk-container-id-3 div.sk-serial::before {content: \"\";position: absolute;border-left: 1px solid gray;box-sizing: border-box;top: 0;bottom: 0;left: 50%;z-index: 0;}#sk-container-id-3 div.sk-serial {display: flex;flex-direction: column;align-items: center;background-color: white;padding-right: 0.2em;padding-left: 0.2em;position: relative;}#sk-container-id-3 div.sk-item {position: relative;z-index: 1;}#sk-container-id-3 div.sk-parallel {display: flex;align-items: stretch;justify-content: center;background-color: white;position: relative;}#sk-container-id-3 div.sk-item::before, #sk-container-id-3 div.sk-parallel-item::before {content: \"\";position: absolute;border-left: 1px solid gray;box-sizing: border-box;top: 0;bottom: 0;left: 50%;z-index: -1;}#sk-container-id-3 div.sk-parallel-item {display: flex;flex-direction: column;z-index: 1;position: relative;background-color: white;}#sk-container-id-3 div.sk-parallel-item:first-child::after {align-self: flex-end;width: 50%;}#sk-container-id-3 div.sk-parallel-item:last-child::after {align-self: flex-start;width: 50%;}#sk-container-id-3 div.sk-parallel-item:only-child::after {width: 0;}#sk-container-id-3 div.sk-dashed-wrapped {border: 1px dashed gray;margin: 0 0.4em 0.5em 0.4em;box-sizing: border-box;padding-bottom: 0.4em;background-color: white;}#sk-container-id-3 div.sk-label label {font-family: monospace;font-weight: bold;display: inline-block;line-height: 1.2em;}#sk-container-id-3 div.sk-label-container {text-align: center;}#sk-container-id-3 div.sk-container {/* jupyter's `normalize.less` sets `[hidden] { display: none; }` but bootstrap.min.css set `[hidden] { display: none !important; }` so we also need the `!important` here to be able to override the default hidden behavior on the sphinx rendered scikit-learn.org. See: https://github.com/scikit-learn/scikit-learn/issues/21755 */display: inline-block !important;position: relative;}#sk-container-id-3 div.sk-text-repr-fallback {display: none;}</style><div id=\"sk-container-id-3\" class=\"sk-top-container\"><div class=\"sk-text-repr-fallback\"><pre>LinearRegression()</pre><b>In a Jupyter environment, please rerun this cell to show the HTML representation or trust the notebook. <br />On GitHub, the HTML representation is unable to render, please try loading this page with nbviewer.org.</b></div><div class=\"sk-container\" hidden><div class=\"sk-item\"><div class=\"sk-estimator sk-toggleable\"><input class=\"sk-toggleable__control sk-hidden--visually\" id=\"sk-estimator-id-3\" type=\"checkbox\" checked><label for=\"sk-estimator-id-3\" class=\"sk-toggleable__label sk-toggleable__label-arrow\">LinearRegression</label><div class=\"sk-toggleable__content\"><pre>LinearRegression()</pre></div></div></div></div></div>"
      ],
      "text/plain": [
       "LinearRegression()"
      ]
     },
     "execution_count": 58,
     "metadata": {},
     "output_type": "execute_result"
    }
   ],
   "source": [
    "from sklearn.linear_model import LinearRegression\n",
    "\n",
    "lr_model = LinearRegression()\n",
    "lr_model.fit(X, y)"
   ]
  },
  {
   "cell_type": "code",
   "execution_count": 59,
   "id": "hispanic-forwarding",
   "metadata": {},
   "outputs": [],
   "source": [
    "y_pred = lr_model.predict(X)"
   ]
  },
  {
   "cell_type": "code",
   "execution_count": 60,
   "id": "champion-degree",
   "metadata": {},
   "outputs": [
    {
     "name": "stdout",
     "output_type": "stream",
     "text": [
      "MSE: 0.2206438652237036\n"
     ]
    }
   ],
   "source": [
    "from sklearn.metrics import mean_absolute_error\n",
    "\n",
    "print('MSE:', mean_absolute_error(y, y_pred))"
   ]
  },
  {
   "cell_type": "markdown",
   "id": "another-copper",
   "metadata": {},
   "source": [
    "**Update the model**"
   ]
  },
  {
   "cell_type": "code",
   "execution_count": 65,
   "id": "educational-childhood",
   "metadata": {},
   "outputs": [],
   "source": [
    "def update_model(X):\n",
    "    target = X[\"normalized_used_price\"]\n",
    "    X = X.drop([\"normalized_used_price\"], axis=1)\n",
    "    return X, target"
   ]
  },
  {
   "cell_type": "code",
   "execution_count": 66,
   "id": "damaged-triangle",
   "metadata": {},
   "outputs": [],
   "source": [
    "X, y = update_model(df.copy())"
   ]
  },
  {
   "cell_type": "code",
   "execution_count": 67,
   "id": "gentle-packet",
   "metadata": {},
   "outputs": [
    {
     "data": {
      "text/html": [
       "<style>#sk-container-id-5 {color: black;background-color: white;}#sk-container-id-5 pre{padding: 0;}#sk-container-id-5 div.sk-toggleable {background-color: white;}#sk-container-id-5 label.sk-toggleable__label {cursor: pointer;display: block;width: 100%;margin-bottom: 0;padding: 0.3em;box-sizing: border-box;text-align: center;}#sk-container-id-5 label.sk-toggleable__label-arrow:before {content: \"▸\";float: left;margin-right: 0.25em;color: #696969;}#sk-container-id-5 label.sk-toggleable__label-arrow:hover:before {color: black;}#sk-container-id-5 div.sk-estimator:hover label.sk-toggleable__label-arrow:before {color: black;}#sk-container-id-5 div.sk-toggleable__content {max-height: 0;max-width: 0;overflow: hidden;text-align: left;background-color: #f0f8ff;}#sk-container-id-5 div.sk-toggleable__content pre {margin: 0.2em;color: black;border-radius: 0.25em;background-color: #f0f8ff;}#sk-container-id-5 input.sk-toggleable__control:checked~div.sk-toggleable__content {max-height: 200px;max-width: 100%;overflow: auto;}#sk-container-id-5 input.sk-toggleable__control:checked~label.sk-toggleable__label-arrow:before {content: \"▾\";}#sk-container-id-5 div.sk-estimator input.sk-toggleable__control:checked~label.sk-toggleable__label {background-color: #d4ebff;}#sk-container-id-5 div.sk-label input.sk-toggleable__control:checked~label.sk-toggleable__label {background-color: #d4ebff;}#sk-container-id-5 input.sk-hidden--visually {border: 0;clip: rect(1px 1px 1px 1px);clip: rect(1px, 1px, 1px, 1px);height: 1px;margin: -1px;overflow: hidden;padding: 0;position: absolute;width: 1px;}#sk-container-id-5 div.sk-estimator {font-family: monospace;background-color: #f0f8ff;border: 1px dotted black;border-radius: 0.25em;box-sizing: border-box;margin-bottom: 0.5em;}#sk-container-id-5 div.sk-estimator:hover {background-color: #d4ebff;}#sk-container-id-5 div.sk-parallel-item::after {content: \"\";width: 100%;border-bottom: 1px solid gray;flex-grow: 1;}#sk-container-id-5 div.sk-label:hover label.sk-toggleable__label {background-color: #d4ebff;}#sk-container-id-5 div.sk-serial::before {content: \"\";position: absolute;border-left: 1px solid gray;box-sizing: border-box;top: 0;bottom: 0;left: 50%;z-index: 0;}#sk-container-id-5 div.sk-serial {display: flex;flex-direction: column;align-items: center;background-color: white;padding-right: 0.2em;padding-left: 0.2em;position: relative;}#sk-container-id-5 div.sk-item {position: relative;z-index: 1;}#sk-container-id-5 div.sk-parallel {display: flex;align-items: stretch;justify-content: center;background-color: white;position: relative;}#sk-container-id-5 div.sk-item::before, #sk-container-id-5 div.sk-parallel-item::before {content: \"\";position: absolute;border-left: 1px solid gray;box-sizing: border-box;top: 0;bottom: 0;left: 50%;z-index: -1;}#sk-container-id-5 div.sk-parallel-item {display: flex;flex-direction: column;z-index: 1;position: relative;background-color: white;}#sk-container-id-5 div.sk-parallel-item:first-child::after {align-self: flex-end;width: 50%;}#sk-container-id-5 div.sk-parallel-item:last-child::after {align-self: flex-start;width: 50%;}#sk-container-id-5 div.sk-parallel-item:only-child::after {width: 0;}#sk-container-id-5 div.sk-dashed-wrapped {border: 1px dashed gray;margin: 0 0.4em 0.5em 0.4em;box-sizing: border-box;padding-bottom: 0.4em;background-color: white;}#sk-container-id-5 div.sk-label label {font-family: monospace;font-weight: bold;display: inline-block;line-height: 1.2em;}#sk-container-id-5 div.sk-label-container {text-align: center;}#sk-container-id-5 div.sk-container {/* jupyter's `normalize.less` sets `[hidden] { display: none; }` but bootstrap.min.css set `[hidden] { display: none !important; }` so we also need the `!important` here to be able to override the default hidden behavior on the sphinx rendered scikit-learn.org. See: https://github.com/scikit-learn/scikit-learn/issues/21755 */display: inline-block !important;position: relative;}#sk-container-id-5 div.sk-text-repr-fallback {display: none;}</style><div id=\"sk-container-id-5\" class=\"sk-top-container\"><div class=\"sk-text-repr-fallback\"><pre>LinearRegression()</pre><b>In a Jupyter environment, please rerun this cell to show the HTML representation or trust the notebook. <br />On GitHub, the HTML representation is unable to render, please try loading this page with nbviewer.org.</b></div><div class=\"sk-container\" hidden><div class=\"sk-item\"><div class=\"sk-estimator sk-toggleable\"><input class=\"sk-toggleable__control sk-hidden--visually\" id=\"sk-estimator-id-5\" type=\"checkbox\" checked><label for=\"sk-estimator-id-5\" class=\"sk-toggleable__label sk-toggleable__label-arrow\">LinearRegression</label><div class=\"sk-toggleable__content\"><pre>LinearRegression()</pre></div></div></div></div></div>"
      ],
      "text/plain": [
       "LinearRegression()"
      ]
     },
     "execution_count": 67,
     "metadata": {},
     "output_type": "execute_result"
    }
   ],
   "source": [
    "lr_model.fit(X, y)"
   ]
  },
  {
   "cell_type": "code",
   "execution_count": 68,
   "id": "insured-reggae",
   "metadata": {},
   "outputs": [
    {
     "name": "stdout",
     "output_type": "stream",
     "text": [
      "MSE: 0.2206438652237036\n"
     ]
    }
   ],
   "source": [
    "print('MSE:', mean_absolute_error(y, y_pred))"
   ]
  },
  {
   "cell_type": "code",
   "execution_count": 69,
   "id": "valued-batman",
   "metadata": {},
   "outputs": [
    {
     "data": {
      "text/plain": [
       "-56.442123560933304"
      ]
     },
     "execution_count": 69,
     "metadata": {},
     "output_type": "execute_result"
    }
   ],
   "source": [
    "# bias\n",
    "lr_model.intercept_"
   ]
  },
  {
   "cell_type": "code",
   "execution_count": null,
   "id": "olive-standing",
   "metadata": {},
   "outputs": [],
   "source": []
  }
 ],
 "metadata": {
  "kernelspec": {
   "display_name": "Python 3",
   "language": "python",
   "name": "python3"
  },
  "language_info": {
   "codemirror_mode": {
    "name": "ipython",
    "version": 3
   },
   "file_extension": ".py",
   "mimetype": "text/x-python",
   "name": "python",
   "nbconvert_exporter": "python",
   "pygments_lexer": "ipython3",
   "version": "3.8.10"
  }
 },
 "nbformat": 4,
 "nbformat_minor": 5
}
