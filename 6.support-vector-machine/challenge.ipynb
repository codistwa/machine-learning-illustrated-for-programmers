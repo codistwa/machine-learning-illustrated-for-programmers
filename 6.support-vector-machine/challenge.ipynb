{
 "cells": [
  {
   "cell_type": "markdown",
   "id": "controversial-organizer",
   "metadata": {},
   "source": [
    "# Challenge n°1"
   ]
  },
  {
   "cell_type": "markdown",
   "id": "above-spring",
   "metadata": {},
   "source": [
    "## Try to code the sigmoid function from the formula with NumPy."
   ]
  },
  {
   "cell_type": "code",
   "execution_count": null,
   "id": "basic-marshall",
   "metadata": {},
   "outputs": [],
   "source": []
  },
  {
   "cell_type": "markdown",
   "id": "thrown-replacement",
   "metadata": {},
   "source": [
    "## Try to code the log loss function from the formula with NumPy."
   ]
  },
  {
   "cell_type": "code",
   "execution_count": null,
   "id": "supreme-stanley",
   "metadata": {},
   "outputs": [],
   "source": []
  }
 ],
 "metadata": {
  "kernelspec": {
   "display_name": "Python 3",
   "language": "python",
   "name": "python3"
  },
  "language_info": {
   "codemirror_mode": {
    "name": "ipython",
    "version": 3
   },
   "file_extension": ".py",
   "mimetype": "text/x-python",
   "name": "python",
   "nbconvert_exporter": "python",
   "pygments_lexer": "ipython3",
   "version": "3.8.10"
  }
 },
 "nbformat": 4,
 "nbformat_minor": 5
}
