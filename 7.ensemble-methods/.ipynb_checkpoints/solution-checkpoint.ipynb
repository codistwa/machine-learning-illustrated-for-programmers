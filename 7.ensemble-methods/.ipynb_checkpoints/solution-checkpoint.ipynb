{
 "cells": [
  {
   "cell_type": "markdown",
   "id": "checked-essay",
   "metadata": {},
   "source": [
    "# Solution"
   ]
  },
  {
   "cell_type": "code",
   "execution_count": 68,
   "id": "unable-nancy",
   "metadata": {},
   "outputs": [],
   "source": [
    "import numpy as np"
   ]
  },
  {
   "cell_type": "code",
   "execution_count": 78,
   "id": "parliamentary-reducing",
   "metadata": {},
   "outputs": [],
   "source": [
    "average = 0.66\n",
    "learning_rate = 0.3"
   ]
  },
  {
   "cell_type": "code",
   "execution_count": 63,
   "id": "juvenile-bahrain",
   "metadata": {},
   "outputs": [],
   "source": [
    "# Calculate the output values\n",
    "residuals_left = [0.34, 0.34, 0.34, 0.34]\n",
    "residuals_right = [-0.66, -0.66]\n",
    "\n",
    "output_values_left = sum(residuals_left) / (4 * (average * (1 - average)))\n",
    "output_values_right = sum(residuals_right) / (2 * (average * (1 - average)))"
   ]
  },
  {
   "cell_type": "code",
   "execution_count": 64,
   "id": "victorian-arthritis",
   "metadata": {},
   "outputs": [
    {
     "data": {
      "text/plain": [
       "1.5151515151515154"
      ]
     },
     "execution_count": 64,
     "metadata": {},
     "output_type": "execute_result"
    }
   ],
   "source": [
    "output_values_left"
   ]
  },
  {
   "cell_type": "code",
   "execution_count": 65,
   "id": "combined-secondary",
   "metadata": {},
   "outputs": [
    {
     "data": {
      "text/plain": [
       "-2.9411764705882355"
      ]
     },
     "execution_count": 65,
     "metadata": {},
     "output_type": "execute_result"
    }
   ],
   "source": [
    "output_values_right"
   ]
  },
  {
   "cell_type": "code",
   "execution_count": 75,
   "id": "golden-forth",
   "metadata": {},
   "outputs": [
    {
     "data": {
      "text/plain": [
       "0.6632942174102643"
      ]
     },
     "execution_count": 75,
     "metadata": {},
     "output_type": "execute_result"
    }
   ],
   "source": [
    "# Calculate the average of the target in log-odds (base model)\n",
    "base_model = np.log(average / (1 - average))\n",
    "base_model"
   ]
  },
  {
   "cell_type": "code",
   "execution_count": 79,
   "id": "roman-fantasy",
   "metadata": {},
   "outputs": [],
   "source": [
    "log_odds_left = base_model + learning_rate * output_values_left"
   ]
  },
  {
   "cell_type": "code",
   "execution_count": 80,
   "id": "southern-wilderness",
   "metadata": {},
   "outputs": [],
   "source": [
    "log_odds_right = base_model + learning_rate * output_values_right"
   ]
  },
  {
   "cell_type": "code",
   "execution_count": 85,
   "id": "african-factory",
   "metadata": {},
   "outputs": [
    {
     "data": {
      "text/plain": [
       "0.7535877779405572"
      ]
     },
     "execution_count": 85,
     "metadata": {},
     "output_type": "execute_result"
    }
   ],
   "source": [
    "# prediction for the left leaf\n",
    "proba_left = np.exp(log_odds_left) / (1 + np.exp(log_odds_left))\n",
    "proba_left"
   ]
  },
  {
   "cell_type": "code",
   "execution_count": 86,
   "id": "meaningful-services",
   "metadata": {},
   "outputs": [
    {
     "data": {
      "text/plain": [
       "0.44545327137425705"
      ]
     },
     "execution_count": 86,
     "metadata": {},
     "output_type": "execute_result"
    }
   ],
   "source": [
    "# prediction for the right leaf\n",
    "proba_right = np.exp(log_odds_right) / (1 + np.exp(log_odds_right))\n",
    "proba_right"
   ]
  },
  {
   "cell_type": "code",
   "execution_count": null,
   "id": "featured-strip",
   "metadata": {},
   "outputs": [],
   "source": []
  }
 ],
 "metadata": {
  "kernelspec": {
   "display_name": "Python 3",
   "language": "python",
   "name": "python3"
  },
  "language_info": {
   "codemirror_mode": {
    "name": "ipython",
    "version": 3
   },
   "file_extension": ".py",
   "mimetype": "text/x-python",
   "name": "python",
   "nbconvert_exporter": "python",
   "pygments_lexer": "ipython3",
   "version": "3.8.10"
  }
 },
 "nbformat": 4,
 "nbformat_minor": 5
}
